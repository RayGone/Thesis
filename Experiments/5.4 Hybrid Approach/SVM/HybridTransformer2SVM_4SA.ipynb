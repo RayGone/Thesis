{
  "metadata": {
    "colab": {
      "provenance": [],
      "gpuType": "T4",
      "include_colab_link": true
    },
    "kernelspec": {
      "name": "python3",
      "display_name": "Python 3",
      "language": "python"
    },
    "language_info": {
      "name": "python",
      "version": "3.10.12",
      "mimetype": "text/x-python",
      "codemirror_mode": {
        "name": "ipython",
        "version": 3
      },
      "pygments_lexer": "ipython3",
      "nbconvert_exporter": "python",
      "file_extension": ".py"
    },
    "accelerator": "GPU",
    "widgets": {
      "application/vnd.jupyter.widget-state+json": {
        "5db80f1c9c214b09aa3d39406f2dd3a3": {
          "model_module": "@jupyter-widgets/controls",
          "model_name": "HBoxModel",
          "model_module_version": "1.5.0",
          "state": {
            "_dom_classes": [],
            "_model_module": "@jupyter-widgets/controls",
            "_model_module_version": "1.5.0",
            "_model_name": "HBoxModel",
            "_view_count": null,
            "_view_module": "@jupyter-widgets/controls",
            "_view_module_version": "1.5.0",
            "_view_name": "HBoxView",
            "box_style": "",
            "children": [
              "IPY_MODEL_047c82cc71de4a7d8b0e4da537b7c301",
              "IPY_MODEL_9a3f3e3dafb641098324bb73ef3d4f1e",
              "IPY_MODEL_8e4b3bf3d4784dc18345b8faa1626d03"
            ],
            "layout": "IPY_MODEL_446b36429a2446c89f01c4605844b734"
          }
        },
        "047c82cc71de4a7d8b0e4da537b7c301": {
          "model_module": "@jupyter-widgets/controls",
          "model_name": "HTMLModel",
          "model_module_version": "1.5.0",
          "state": {
            "_dom_classes": [],
            "_model_module": "@jupyter-widgets/controls",
            "_model_module_version": "1.5.0",
            "_model_name": "HTMLModel",
            "_view_count": null,
            "_view_module": "@jupyter-widgets/controls",
            "_view_module_version": "1.5.0",
            "_view_name": "HTMLView",
            "description": "",
            "description_tooltip": null,
            "layout": "IPY_MODEL_6806a3eb3e9848118bfca84ad4b3c95f",
            "placeholder": "​",
            "style": "IPY_MODEL_fb7861523a52488d8c8895e98a6d9c29",
            "value": "Downloading (…)b9c8756c/config.json: 100%"
          }
        },
        "9a3f3e3dafb641098324bb73ef3d4f1e": {
          "model_module": "@jupyter-widgets/controls",
          "model_name": "FloatProgressModel",
          "model_module_version": "1.5.0",
          "state": {
            "_dom_classes": [],
            "_model_module": "@jupyter-widgets/controls",
            "_model_module_version": "1.5.0",
            "_model_name": "FloatProgressModel",
            "_view_count": null,
            "_view_module": "@jupyter-widgets/controls",
            "_view_module_version": "1.5.0",
            "_view_name": "ProgressView",
            "bar_style": "success",
            "description": "",
            "description_tooltip": null,
            "layout": "IPY_MODEL_5adcd10b3afc44369b0ad06679cffad1",
            "max": 803,
            "min": 0,
            "orientation": "horizontal",
            "style": "IPY_MODEL_adbe3b57d6b84ce1a07eba1c5cc8dcfa",
            "value": 803
          }
        },
        "8e4b3bf3d4784dc18345b8faa1626d03": {
          "model_module": "@jupyter-widgets/controls",
          "model_name": "HTMLModel",
          "model_module_version": "1.5.0",
          "state": {
            "_dom_classes": [],
            "_model_module": "@jupyter-widgets/controls",
            "_model_module_version": "1.5.0",
            "_model_name": "HTMLModel",
            "_view_count": null,
            "_view_module": "@jupyter-widgets/controls",
            "_view_module_version": "1.5.0",
            "_view_name": "HTMLView",
            "description": "",
            "description_tooltip": null,
            "layout": "IPY_MODEL_0a4a4fdfb77042bc89ddf959f2b3b37e",
            "placeholder": "​",
            "style": "IPY_MODEL_db6c6787cc2e40e79c773e9805e2f240",
            "value": " 803/803 [00:00&lt;00:00, 14.8kB/s]"
          }
        },
        "446b36429a2446c89f01c4605844b734": {
          "model_module": "@jupyter-widgets/base",
          "model_name": "LayoutModel",
          "model_module_version": "1.2.0",
          "state": {
            "_model_module": "@jupyter-widgets/base",
            "_model_module_version": "1.2.0",
            "_model_name": "LayoutModel",
            "_view_count": null,
            "_view_module": "@jupyter-widgets/base",
            "_view_module_version": "1.2.0",
            "_view_name": "LayoutView",
            "align_content": null,
            "align_items": null,
            "align_self": null,
            "border": null,
            "bottom": null,
            "display": null,
            "flex": null,
            "flex_flow": null,
            "grid_area": null,
            "grid_auto_columns": null,
            "grid_auto_flow": null,
            "grid_auto_rows": null,
            "grid_column": null,
            "grid_gap": null,
            "grid_row": null,
            "grid_template_areas": null,
            "grid_template_columns": null,
            "grid_template_rows": null,
            "height": null,
            "justify_content": null,
            "justify_items": null,
            "left": null,
            "margin": null,
            "max_height": null,
            "max_width": null,
            "min_height": null,
            "min_width": null,
            "object_fit": null,
            "object_position": null,
            "order": null,
            "overflow": null,
            "overflow_x": null,
            "overflow_y": null,
            "padding": null,
            "right": null,
            "top": null,
            "visibility": null,
            "width": null
          }
        },
        "6806a3eb3e9848118bfca84ad4b3c95f": {
          "model_module": "@jupyter-widgets/base",
          "model_name": "LayoutModel",
          "model_module_version": "1.2.0",
          "state": {
            "_model_module": "@jupyter-widgets/base",
            "_model_module_version": "1.2.0",
            "_model_name": "LayoutModel",
            "_view_count": null,
            "_view_module": "@jupyter-widgets/base",
            "_view_module_version": "1.2.0",
            "_view_name": "LayoutView",
            "align_content": null,
            "align_items": null,
            "align_self": null,
            "border": null,
            "bottom": null,
            "display": null,
            "flex": null,
            "flex_flow": null,
            "grid_area": null,
            "grid_auto_columns": null,
            "grid_auto_flow": null,
            "grid_auto_rows": null,
            "grid_column": null,
            "grid_gap": null,
            "grid_row": null,
            "grid_template_areas": null,
            "grid_template_columns": null,
            "grid_template_rows": null,
            "height": null,
            "justify_content": null,
            "justify_items": null,
            "left": null,
            "margin": null,
            "max_height": null,
            "max_width": null,
            "min_height": null,
            "min_width": null,
            "object_fit": null,
            "object_position": null,
            "order": null,
            "overflow": null,
            "overflow_x": null,
            "overflow_y": null,
            "padding": null,
            "right": null,
            "top": null,
            "visibility": null,
            "width": null
          }
        },
        "fb7861523a52488d8c8895e98a6d9c29": {
          "model_module": "@jupyter-widgets/controls",
          "model_name": "DescriptionStyleModel",
          "model_module_version": "1.5.0",
          "state": {
            "_model_module": "@jupyter-widgets/controls",
            "_model_module_version": "1.5.0",
            "_model_name": "DescriptionStyleModel",
            "_view_count": null,
            "_view_module": "@jupyter-widgets/base",
            "_view_module_version": "1.2.0",
            "_view_name": "StyleView",
            "description_width": ""
          }
        },
        "5adcd10b3afc44369b0ad06679cffad1": {
          "model_module": "@jupyter-widgets/base",
          "model_name": "LayoutModel",
          "model_module_version": "1.2.0",
          "state": {
            "_model_module": "@jupyter-widgets/base",
            "_model_module_version": "1.2.0",
            "_model_name": "LayoutModel",
            "_view_count": null,
            "_view_module": "@jupyter-widgets/base",
            "_view_module_version": "1.2.0",
            "_view_name": "LayoutView",
            "align_content": null,
            "align_items": null,
            "align_self": null,
            "border": null,
            "bottom": null,
            "display": null,
            "flex": null,
            "flex_flow": null,
            "grid_area": null,
            "grid_auto_columns": null,
            "grid_auto_flow": null,
            "grid_auto_rows": null,
            "grid_column": null,
            "grid_gap": null,
            "grid_row": null,
            "grid_template_areas": null,
            "grid_template_columns": null,
            "grid_template_rows": null,
            "height": null,
            "justify_content": null,
            "justify_items": null,
            "left": null,
            "margin": null,
            "max_height": null,
            "max_width": null,
            "min_height": null,
            "min_width": null,
            "object_fit": null,
            "object_position": null,
            "order": null,
            "overflow": null,
            "overflow_x": null,
            "overflow_y": null,
            "padding": null,
            "right": null,
            "top": null,
            "visibility": null,
            "width": null
          }
        },
        "adbe3b57d6b84ce1a07eba1c5cc8dcfa": {
          "model_module": "@jupyter-widgets/controls",
          "model_name": "ProgressStyleModel",
          "model_module_version": "1.5.0",
          "state": {
            "_model_module": "@jupyter-widgets/controls",
            "_model_module_version": "1.5.0",
            "_model_name": "ProgressStyleModel",
            "_view_count": null,
            "_view_module": "@jupyter-widgets/base",
            "_view_module_version": "1.2.0",
            "_view_name": "StyleView",
            "bar_color": null,
            "description_width": ""
          }
        },
        "0a4a4fdfb77042bc89ddf959f2b3b37e": {
          "model_module": "@jupyter-widgets/base",
          "model_name": "LayoutModel",
          "model_module_version": "1.2.0",
          "state": {
            "_model_module": "@jupyter-widgets/base",
            "_model_module_version": "1.2.0",
            "_model_name": "LayoutModel",
            "_view_count": null,
            "_view_module": "@jupyter-widgets/base",
            "_view_module_version": "1.2.0",
            "_view_name": "LayoutView",
            "align_content": null,
            "align_items": null,
            "align_self": null,
            "border": null,
            "bottom": null,
            "display": null,
            "flex": null,
            "flex_flow": null,
            "grid_area": null,
            "grid_auto_columns": null,
            "grid_auto_flow": null,
            "grid_auto_rows": null,
            "grid_column": null,
            "grid_gap": null,
            "grid_row": null,
            "grid_template_areas": null,
            "grid_template_columns": null,
            "grid_template_rows": null,
            "height": null,
            "justify_content": null,
            "justify_items": null,
            "left": null,
            "margin": null,
            "max_height": null,
            "max_width": null,
            "min_height": null,
            "min_width": null,
            "object_fit": null,
            "object_position": null,
            "order": null,
            "overflow": null,
            "overflow_x": null,
            "overflow_y": null,
            "padding": null,
            "right": null,
            "top": null,
            "visibility": null,
            "width": null
          }
        },
        "db6c6787cc2e40e79c773e9805e2f240": {
          "model_module": "@jupyter-widgets/controls",
          "model_name": "DescriptionStyleModel",
          "model_module_version": "1.5.0",
          "state": {
            "_model_module": "@jupyter-widgets/controls",
            "_model_module_version": "1.5.0",
            "_model_name": "DescriptionStyleModel",
            "_view_count": null,
            "_view_module": "@jupyter-widgets/base",
            "_view_module_version": "1.2.0",
            "_view_name": "StyleView",
            "description_width": ""
          }
        },
        "3454604f275e467cb582ab0cd82c3f91": {
          "model_module": "@jupyter-widgets/controls",
          "model_name": "HBoxModel",
          "model_module_version": "1.5.0",
          "state": {
            "_dom_classes": [],
            "_model_module": "@jupyter-widgets/controls",
            "_model_module_version": "1.5.0",
            "_model_name": "HBoxModel",
            "_view_count": null,
            "_view_module": "@jupyter-widgets/controls",
            "_view_module_version": "1.5.0",
            "_view_name": "HBoxView",
            "box_style": "",
            "children": [
              "IPY_MODEL_ffa55db656cd460bbfd0b6028aedb304",
              "IPY_MODEL_a860c779473c476c85ad5220a4ea33d3",
              "IPY_MODEL_a1390425945c44059daaa82193de36b9"
            ],
            "layout": "IPY_MODEL_bb2ffd58907242fb9864745c909a44ec"
          }
        },
        "ffa55db656cd460bbfd0b6028aedb304": {
          "model_module": "@jupyter-widgets/controls",
          "model_name": "HTMLModel",
          "model_module_version": "1.5.0",
          "state": {
            "_dom_classes": [],
            "_model_module": "@jupyter-widgets/controls",
            "_model_module_version": "1.5.0",
            "_model_name": "HTMLModel",
            "_view_count": null,
            "_view_module": "@jupyter-widgets/controls",
            "_view_module_version": "1.5.0",
            "_view_name": "HTMLView",
            "description": "",
            "description_tooltip": null,
            "layout": "IPY_MODEL_f0f4beec55844af8a78c951d696e7af7",
            "placeholder": "​",
            "style": "IPY_MODEL_6c61999a7512495d85cec09242fc3efb",
            "value": "Downloading tf_model.h5: 100%"
          }
        },
        "a860c779473c476c85ad5220a4ea33d3": {
          "model_module": "@jupyter-widgets/controls",
          "model_name": "FloatProgressModel",
          "model_module_version": "1.5.0",
          "state": {
            "_dom_classes": [],
            "_model_module": "@jupyter-widgets/controls",
            "_model_module_version": "1.5.0",
            "_model_name": "FloatProgressModel",
            "_view_count": null,
            "_view_module": "@jupyter-widgets/controls",
            "_view_module_version": "1.5.0",
            "_view_name": "ProgressView",
            "bar_style": "success",
            "description": "",
            "description_tooltip": null,
            "layout": "IPY_MODEL_21000cd2134f4d59b255e881b78124bf",
            "max": 438226204,
            "min": 0,
            "orientation": "horizontal",
            "style": "IPY_MODEL_8db924e7888c49b5900a0cfd59a75d10",
            "value": 438226204
          }
        },
        "a1390425945c44059daaa82193de36b9": {
          "model_module": "@jupyter-widgets/controls",
          "model_name": "HTMLModel",
          "model_module_version": "1.5.0",
          "state": {
            "_dom_classes": [],
            "_model_module": "@jupyter-widgets/controls",
            "_model_module_version": "1.5.0",
            "_model_name": "HTMLModel",
            "_view_count": null,
            "_view_module": "@jupyter-widgets/controls",
            "_view_module_version": "1.5.0",
            "_view_name": "HTMLView",
            "description": "",
            "description_tooltip": null,
            "layout": "IPY_MODEL_9082764bdc8b4723bacd45ef006efff0",
            "placeholder": "​",
            "style": "IPY_MODEL_405f90d24e554e09b8fd1d488430253a",
            "value": " 438M/438M [00:06&lt;00:00, 66.0MB/s]"
          }
        },
        "bb2ffd58907242fb9864745c909a44ec": {
          "model_module": "@jupyter-widgets/base",
          "model_name": "LayoutModel",
          "model_module_version": "1.2.0",
          "state": {
            "_model_module": "@jupyter-widgets/base",
            "_model_module_version": "1.2.0",
            "_model_name": "LayoutModel",
            "_view_count": null,
            "_view_module": "@jupyter-widgets/base",
            "_view_module_version": "1.2.0",
            "_view_name": "LayoutView",
            "align_content": null,
            "align_items": null,
            "align_self": null,
            "border": null,
            "bottom": null,
            "display": null,
            "flex": null,
            "flex_flow": null,
            "grid_area": null,
            "grid_auto_columns": null,
            "grid_auto_flow": null,
            "grid_auto_rows": null,
            "grid_column": null,
            "grid_gap": null,
            "grid_row": null,
            "grid_template_areas": null,
            "grid_template_columns": null,
            "grid_template_rows": null,
            "height": null,
            "justify_content": null,
            "justify_items": null,
            "left": null,
            "margin": null,
            "max_height": null,
            "max_width": null,
            "min_height": null,
            "min_width": null,
            "object_fit": null,
            "object_position": null,
            "order": null,
            "overflow": null,
            "overflow_x": null,
            "overflow_y": null,
            "padding": null,
            "right": null,
            "top": null,
            "visibility": null,
            "width": null
          }
        },
        "f0f4beec55844af8a78c951d696e7af7": {
          "model_module": "@jupyter-widgets/base",
          "model_name": "LayoutModel",
          "model_module_version": "1.2.0",
          "state": {
            "_model_module": "@jupyter-widgets/base",
            "_model_module_version": "1.2.0",
            "_model_name": "LayoutModel",
            "_view_count": null,
            "_view_module": "@jupyter-widgets/base",
            "_view_module_version": "1.2.0",
            "_view_name": "LayoutView",
            "align_content": null,
            "align_items": null,
            "align_self": null,
            "border": null,
            "bottom": null,
            "display": null,
            "flex": null,
            "flex_flow": null,
            "grid_area": null,
            "grid_auto_columns": null,
            "grid_auto_flow": null,
            "grid_auto_rows": null,
            "grid_column": null,
            "grid_gap": null,
            "grid_row": null,
            "grid_template_areas": null,
            "grid_template_columns": null,
            "grid_template_rows": null,
            "height": null,
            "justify_content": null,
            "justify_items": null,
            "left": null,
            "margin": null,
            "max_height": null,
            "max_width": null,
            "min_height": null,
            "min_width": null,
            "object_fit": null,
            "object_position": null,
            "order": null,
            "overflow": null,
            "overflow_x": null,
            "overflow_y": null,
            "padding": null,
            "right": null,
            "top": null,
            "visibility": null,
            "width": null
          }
        },
        "6c61999a7512495d85cec09242fc3efb": {
          "model_module": "@jupyter-widgets/controls",
          "model_name": "DescriptionStyleModel",
          "model_module_version": "1.5.0",
          "state": {
            "_model_module": "@jupyter-widgets/controls",
            "_model_module_version": "1.5.0",
            "_model_name": "DescriptionStyleModel",
            "_view_count": null,
            "_view_module": "@jupyter-widgets/base",
            "_view_module_version": "1.2.0",
            "_view_name": "StyleView",
            "description_width": ""
          }
        },
        "21000cd2134f4d59b255e881b78124bf": {
          "model_module": "@jupyter-widgets/base",
          "model_name": "LayoutModel",
          "model_module_version": "1.2.0",
          "state": {
            "_model_module": "@jupyter-widgets/base",
            "_model_module_version": "1.2.0",
            "_model_name": "LayoutModel",
            "_view_count": null,
            "_view_module": "@jupyter-widgets/base",
            "_view_module_version": "1.2.0",
            "_view_name": "LayoutView",
            "align_content": null,
            "align_items": null,
            "align_self": null,
            "border": null,
            "bottom": null,
            "display": null,
            "flex": null,
            "flex_flow": null,
            "grid_area": null,
            "grid_auto_columns": null,
            "grid_auto_flow": null,
            "grid_auto_rows": null,
            "grid_column": null,
            "grid_gap": null,
            "grid_row": null,
            "grid_template_areas": null,
            "grid_template_columns": null,
            "grid_template_rows": null,
            "height": null,
            "justify_content": null,
            "justify_items": null,
            "left": null,
            "margin": null,
            "max_height": null,
            "max_width": null,
            "min_height": null,
            "min_width": null,
            "object_fit": null,
            "object_position": null,
            "order": null,
            "overflow": null,
            "overflow_x": null,
            "overflow_y": null,
            "padding": null,
            "right": null,
            "top": null,
            "visibility": null,
            "width": null
          }
        },
        "8db924e7888c49b5900a0cfd59a75d10": {
          "model_module": "@jupyter-widgets/controls",
          "model_name": "ProgressStyleModel",
          "model_module_version": "1.5.0",
          "state": {
            "_model_module": "@jupyter-widgets/controls",
            "_model_module_version": "1.5.0",
            "_model_name": "ProgressStyleModel",
            "_view_count": null,
            "_view_module": "@jupyter-widgets/base",
            "_view_module_version": "1.2.0",
            "_view_name": "StyleView",
            "bar_color": null,
            "description_width": ""
          }
        },
        "9082764bdc8b4723bacd45ef006efff0": {
          "model_module": "@jupyter-widgets/base",
          "model_name": "LayoutModel",
          "model_module_version": "1.2.0",
          "state": {
            "_model_module": "@jupyter-widgets/base",
            "_model_module_version": "1.2.0",
            "_model_name": "LayoutModel",
            "_view_count": null,
            "_view_module": "@jupyter-widgets/base",
            "_view_module_version": "1.2.0",
            "_view_name": "LayoutView",
            "align_content": null,
            "align_items": null,
            "align_self": null,
            "border": null,
            "bottom": null,
            "display": null,
            "flex": null,
            "flex_flow": null,
            "grid_area": null,
            "grid_auto_columns": null,
            "grid_auto_flow": null,
            "grid_auto_rows": null,
            "grid_column": null,
            "grid_gap": null,
            "grid_row": null,
            "grid_template_areas": null,
            "grid_template_columns": null,
            "grid_template_rows": null,
            "height": null,
            "justify_content": null,
            "justify_items": null,
            "left": null,
            "margin": null,
            "max_height": null,
            "max_width": null,
            "min_height": null,
            "min_width": null,
            "object_fit": null,
            "object_position": null,
            "order": null,
            "overflow": null,
            "overflow_x": null,
            "overflow_y": null,
            "padding": null,
            "right": null,
            "top": null,
            "visibility": null,
            "width": null
          }
        },
        "405f90d24e554e09b8fd1d488430253a": {
          "model_module": "@jupyter-widgets/controls",
          "model_name": "DescriptionStyleModel",
          "model_module_version": "1.5.0",
          "state": {
            "_model_module": "@jupyter-widgets/controls",
            "_model_module_version": "1.5.0",
            "_model_name": "DescriptionStyleModel",
            "_view_count": null,
            "_view_module": "@jupyter-widgets/base",
            "_view_module_version": "1.2.0",
            "_view_name": "StyleView",
            "description_width": ""
          }
        },
        "674a03de4e9a4ad5acf637d190c6a0d2": {
          "model_module": "@jupyter-widgets/controls",
          "model_name": "HBoxModel",
          "model_module_version": "1.5.0",
          "state": {
            "_dom_classes": [],
            "_model_module": "@jupyter-widgets/controls",
            "_model_module_version": "1.5.0",
            "_model_name": "HBoxModel",
            "_view_count": null,
            "_view_module": "@jupyter-widgets/controls",
            "_view_module_version": "1.5.0",
            "_view_name": "HBoxView",
            "box_style": "",
            "children": [
              "IPY_MODEL_a509bf8a84044e828bf28e06984468a8",
              "IPY_MODEL_abe5cff19ddc4ad480740fd1b2e4e4ae",
              "IPY_MODEL_24eadca16c724e74860dfa6c017f58e4"
            ],
            "layout": "IPY_MODEL_c7660fed2ad84e0691ae5a54cb788c06"
          }
        },
        "a509bf8a84044e828bf28e06984468a8": {
          "model_module": "@jupyter-widgets/controls",
          "model_name": "HTMLModel",
          "model_module_version": "1.5.0",
          "state": {
            "_dom_classes": [],
            "_model_module": "@jupyter-widgets/controls",
            "_model_module_version": "1.5.0",
            "_model_name": "HTMLModel",
            "_view_count": null,
            "_view_module": "@jupyter-widgets/controls",
            "_view_module_version": "1.5.0",
            "_view_name": "HTMLView",
            "description": "",
            "description_tooltip": null,
            "layout": "IPY_MODEL_0ec7eab3b3414ba581f47e5fb36ac9ee",
            "placeholder": "​",
            "style": "IPY_MODEL_eead9fb5bb9a41fdbf101fefd19b8371",
            "value": "100%"
          }
        },
        "abe5cff19ddc4ad480740fd1b2e4e4ae": {
          "model_module": "@jupyter-widgets/controls",
          "model_name": "FloatProgressModel",
          "model_module_version": "1.5.0",
          "state": {
            "_dom_classes": [],
            "_model_module": "@jupyter-widgets/controls",
            "_model_module_version": "1.5.0",
            "_model_name": "FloatProgressModel",
            "_view_count": null,
            "_view_module": "@jupyter-widgets/controls",
            "_view_module_version": "1.5.0",
            "_view_name": "ProgressView",
            "bar_style": "success",
            "description": "",
            "description_tooltip": null,
            "layout": "IPY_MODEL_5b6dca631f01458c998d1153c4ca846b",
            "max": 1,
            "min": 0,
            "orientation": "horizontal",
            "style": "IPY_MODEL_b1556e1759bb4597b02db8a8d8c108f5",
            "value": 1
          }
        },
        "24eadca16c724e74860dfa6c017f58e4": {
          "model_module": "@jupyter-widgets/controls",
          "model_name": "HTMLModel",
          "model_module_version": "1.5.0",
          "state": {
            "_dom_classes": [],
            "_model_module": "@jupyter-widgets/controls",
            "_model_module_version": "1.5.0",
            "_model_name": "HTMLModel",
            "_view_count": null,
            "_view_module": "@jupyter-widgets/controls",
            "_view_module_version": "1.5.0",
            "_view_name": "HTMLView",
            "description": "",
            "description_tooltip": null,
            "layout": "IPY_MODEL_04a979d609f8410da88921d61c75bf2f",
            "placeholder": "​",
            "style": "IPY_MODEL_172e6de2109c4e2183479b9950b9033f",
            "value": " 1/1 [00:00&lt;00:00, 24.78it/s]"
          }
        },
        "c7660fed2ad84e0691ae5a54cb788c06": {
          "model_module": "@jupyter-widgets/base",
          "model_name": "LayoutModel",
          "model_module_version": "1.2.0",
          "state": {
            "_model_module": "@jupyter-widgets/base",
            "_model_module_version": "1.2.0",
            "_model_name": "LayoutModel",
            "_view_count": null,
            "_view_module": "@jupyter-widgets/base",
            "_view_module_version": "1.2.0",
            "_view_name": "LayoutView",
            "align_content": null,
            "align_items": null,
            "align_self": null,
            "border": null,
            "bottom": null,
            "display": null,
            "flex": null,
            "flex_flow": null,
            "grid_area": null,
            "grid_auto_columns": null,
            "grid_auto_flow": null,
            "grid_auto_rows": null,
            "grid_column": null,
            "grid_gap": null,
            "grid_row": null,
            "grid_template_areas": null,
            "grid_template_columns": null,
            "grid_template_rows": null,
            "height": null,
            "justify_content": null,
            "justify_items": null,
            "left": null,
            "margin": null,
            "max_height": null,
            "max_width": null,
            "min_height": null,
            "min_width": null,
            "object_fit": null,
            "object_position": null,
            "order": null,
            "overflow": null,
            "overflow_x": null,
            "overflow_y": null,
            "padding": null,
            "right": null,
            "top": null,
            "visibility": null,
            "width": null
          }
        },
        "0ec7eab3b3414ba581f47e5fb36ac9ee": {
          "model_module": "@jupyter-widgets/base",
          "model_name": "LayoutModel",
          "model_module_version": "1.2.0",
          "state": {
            "_model_module": "@jupyter-widgets/base",
            "_model_module_version": "1.2.0",
            "_model_name": "LayoutModel",
            "_view_count": null,
            "_view_module": "@jupyter-widgets/base",
            "_view_module_version": "1.2.0",
            "_view_name": "LayoutView",
            "align_content": null,
            "align_items": null,
            "align_self": null,
            "border": null,
            "bottom": null,
            "display": null,
            "flex": null,
            "flex_flow": null,
            "grid_area": null,
            "grid_auto_columns": null,
            "grid_auto_flow": null,
            "grid_auto_rows": null,
            "grid_column": null,
            "grid_gap": null,
            "grid_row": null,
            "grid_template_areas": null,
            "grid_template_columns": null,
            "grid_template_rows": null,
            "height": null,
            "justify_content": null,
            "justify_items": null,
            "left": null,
            "margin": null,
            "max_height": null,
            "max_width": null,
            "min_height": null,
            "min_width": null,
            "object_fit": null,
            "object_position": null,
            "order": null,
            "overflow": null,
            "overflow_x": null,
            "overflow_y": null,
            "padding": null,
            "right": null,
            "top": null,
            "visibility": null,
            "width": null
          }
        },
        "eead9fb5bb9a41fdbf101fefd19b8371": {
          "model_module": "@jupyter-widgets/controls",
          "model_name": "DescriptionStyleModel",
          "model_module_version": "1.5.0",
          "state": {
            "_model_module": "@jupyter-widgets/controls",
            "_model_module_version": "1.5.0",
            "_model_name": "DescriptionStyleModel",
            "_view_count": null,
            "_view_module": "@jupyter-widgets/base",
            "_view_module_version": "1.2.0",
            "_view_name": "StyleView",
            "description_width": ""
          }
        },
        "5b6dca631f01458c998d1153c4ca846b": {
          "model_module": "@jupyter-widgets/base",
          "model_name": "LayoutModel",
          "model_module_version": "1.2.0",
          "state": {
            "_model_module": "@jupyter-widgets/base",
            "_model_module_version": "1.2.0",
            "_model_name": "LayoutModel",
            "_view_count": null,
            "_view_module": "@jupyter-widgets/base",
            "_view_module_version": "1.2.0",
            "_view_name": "LayoutView",
            "align_content": null,
            "align_items": null,
            "align_self": null,
            "border": null,
            "bottom": null,
            "display": null,
            "flex": null,
            "flex_flow": null,
            "grid_area": null,
            "grid_auto_columns": null,
            "grid_auto_flow": null,
            "grid_auto_rows": null,
            "grid_column": null,
            "grid_gap": null,
            "grid_row": null,
            "grid_template_areas": null,
            "grid_template_columns": null,
            "grid_template_rows": null,
            "height": null,
            "justify_content": null,
            "justify_items": null,
            "left": null,
            "margin": null,
            "max_height": null,
            "max_width": null,
            "min_height": null,
            "min_width": null,
            "object_fit": null,
            "object_position": null,
            "order": null,
            "overflow": null,
            "overflow_x": null,
            "overflow_y": null,
            "padding": null,
            "right": null,
            "top": null,
            "visibility": null,
            "width": null
          }
        },
        "b1556e1759bb4597b02db8a8d8c108f5": {
          "model_module": "@jupyter-widgets/controls",
          "model_name": "ProgressStyleModel",
          "model_module_version": "1.5.0",
          "state": {
            "_model_module": "@jupyter-widgets/controls",
            "_model_module_version": "1.5.0",
            "_model_name": "ProgressStyleModel",
            "_view_count": null,
            "_view_module": "@jupyter-widgets/base",
            "_view_module_version": "1.2.0",
            "_view_name": "StyleView",
            "bar_color": null,
            "description_width": ""
          }
        },
        "04a979d609f8410da88921d61c75bf2f": {
          "model_module": "@jupyter-widgets/base",
          "model_name": "LayoutModel",
          "model_module_version": "1.2.0",
          "state": {
            "_model_module": "@jupyter-widgets/base",
            "_model_module_version": "1.2.0",
            "_model_name": "LayoutModel",
            "_view_count": null,
            "_view_module": "@jupyter-widgets/base",
            "_view_module_version": "1.2.0",
            "_view_name": "LayoutView",
            "align_content": null,
            "align_items": null,
            "align_self": null,
            "border": null,
            "bottom": null,
            "display": null,
            "flex": null,
            "flex_flow": null,
            "grid_area": null,
            "grid_auto_columns": null,
            "grid_auto_flow": null,
            "grid_auto_rows": null,
            "grid_column": null,
            "grid_gap": null,
            "grid_row": null,
            "grid_template_areas": null,
            "grid_template_columns": null,
            "grid_template_rows": null,
            "height": null,
            "justify_content": null,
            "justify_items": null,
            "left": null,
            "margin": null,
            "max_height": null,
            "max_width": null,
            "min_height": null,
            "min_width": null,
            "object_fit": null,
            "object_position": null,
            "order": null,
            "overflow": null,
            "overflow_x": null,
            "overflow_y": null,
            "padding": null,
            "right": null,
            "top": null,
            "visibility": null,
            "width": null
          }
        },
        "172e6de2109c4e2183479b9950b9033f": {
          "model_module": "@jupyter-widgets/controls",
          "model_name": "DescriptionStyleModel",
          "model_module_version": "1.5.0",
          "state": {
            "_model_module": "@jupyter-widgets/controls",
            "_model_module_version": "1.5.0",
            "_model_name": "DescriptionStyleModel",
            "_view_count": null,
            "_view_module": "@jupyter-widgets/base",
            "_view_module_version": "1.2.0",
            "_view_name": "StyleView",
            "description_width": ""
          }
        },
        "c32378a9d1414ea3b24729acfb890e30": {
          "model_module": "@jupyter-widgets/controls",
          "model_name": "HBoxModel",
          "model_module_version": "1.5.0",
          "state": {
            "_dom_classes": [],
            "_model_module": "@jupyter-widgets/controls",
            "_model_module_version": "1.5.0",
            "_model_name": "HBoxModel",
            "_view_count": null,
            "_view_module": "@jupyter-widgets/controls",
            "_view_module_version": "1.5.0",
            "_view_name": "HBoxView",
            "box_style": "",
            "children": [
              "IPY_MODEL_7fa35c3a237445e7a76f62d701584e82",
              "IPY_MODEL_2cb9105987fe45958905522a703a6f35",
              "IPY_MODEL_dcb509de3545450babba6c72fdc687ed"
            ],
            "layout": "IPY_MODEL_286b5bf45b0643e28cd08acb2114e8d5"
          }
        },
        "7fa35c3a237445e7a76f62d701584e82": {
          "model_module": "@jupyter-widgets/controls",
          "model_name": "HTMLModel",
          "model_module_version": "1.5.0",
          "state": {
            "_dom_classes": [],
            "_model_module": "@jupyter-widgets/controls",
            "_model_module_version": "1.5.0",
            "_model_name": "HTMLModel",
            "_view_count": null,
            "_view_module": "@jupyter-widgets/controls",
            "_view_module_version": "1.5.0",
            "_view_name": "HTMLView",
            "description": "",
            "description_tooltip": null,
            "layout": "IPY_MODEL_5df5c706a80e48de91587ec8aa0f728b",
            "placeholder": "​",
            "style": "IPY_MODEL_15e0707af73f4c1f93b97481ff61a430",
            "value": "100%"
          }
        },
        "2cb9105987fe45958905522a703a6f35": {
          "model_module": "@jupyter-widgets/controls",
          "model_name": "FloatProgressModel",
          "model_module_version": "1.5.0",
          "state": {
            "_dom_classes": [],
            "_model_module": "@jupyter-widgets/controls",
            "_model_module_version": "1.5.0",
            "_model_name": "FloatProgressModel",
            "_view_count": null,
            "_view_module": "@jupyter-widgets/controls",
            "_view_module_version": "1.5.0",
            "_view_name": "ProgressView",
            "bar_style": "success",
            "description": "",
            "description_tooltip": null,
            "layout": "IPY_MODEL_77eca641145147f995ea1e8222197202",
            "max": 1039,
            "min": 0,
            "orientation": "horizontal",
            "style": "IPY_MODEL_1b54bcc5d84e44609ea42088526f9657",
            "value": 1039
          }
        },
        "dcb509de3545450babba6c72fdc687ed": {
          "model_module": "@jupyter-widgets/controls",
          "model_name": "HTMLModel",
          "model_module_version": "1.5.0",
          "state": {
            "_dom_classes": [],
            "_model_module": "@jupyter-widgets/controls",
            "_model_module_version": "1.5.0",
            "_model_name": "HTMLModel",
            "_view_count": null,
            "_view_module": "@jupyter-widgets/controls",
            "_view_module_version": "1.5.0",
            "_view_name": "HTMLView",
            "description": "",
            "description_tooltip": null,
            "layout": "IPY_MODEL_e516708ff8b2444fbdc7bbae887896c3",
            "placeholder": "​",
            "style": "IPY_MODEL_165615921c9246f7af1d5728a253f7a3",
            "value": " 1039/1039 [05:35&lt;00:00,  3.53it/s]"
          }
        },
        "286b5bf45b0643e28cd08acb2114e8d5": {
          "model_module": "@jupyter-widgets/base",
          "model_name": "LayoutModel",
          "model_module_version": "1.2.0",
          "state": {
            "_model_module": "@jupyter-widgets/base",
            "_model_module_version": "1.2.0",
            "_model_name": "LayoutModel",
            "_view_count": null,
            "_view_module": "@jupyter-widgets/base",
            "_view_module_version": "1.2.0",
            "_view_name": "LayoutView",
            "align_content": null,
            "align_items": null,
            "align_self": null,
            "border": null,
            "bottom": null,
            "display": null,
            "flex": null,
            "flex_flow": null,
            "grid_area": null,
            "grid_auto_columns": null,
            "grid_auto_flow": null,
            "grid_auto_rows": null,
            "grid_column": null,
            "grid_gap": null,
            "grid_row": null,
            "grid_template_areas": null,
            "grid_template_columns": null,
            "grid_template_rows": null,
            "height": null,
            "justify_content": null,
            "justify_items": null,
            "left": null,
            "margin": null,
            "max_height": null,
            "max_width": null,
            "min_height": null,
            "min_width": null,
            "object_fit": null,
            "object_position": null,
            "order": null,
            "overflow": null,
            "overflow_x": null,
            "overflow_y": null,
            "padding": null,
            "right": null,
            "top": null,
            "visibility": null,
            "width": null
          }
        },
        "5df5c706a80e48de91587ec8aa0f728b": {
          "model_module": "@jupyter-widgets/base",
          "model_name": "LayoutModel",
          "model_module_version": "1.2.0",
          "state": {
            "_model_module": "@jupyter-widgets/base",
            "_model_module_version": "1.2.0",
            "_model_name": "LayoutModel",
            "_view_count": null,
            "_view_module": "@jupyter-widgets/base",
            "_view_module_version": "1.2.0",
            "_view_name": "LayoutView",
            "align_content": null,
            "align_items": null,
            "align_self": null,
            "border": null,
            "bottom": null,
            "display": null,
            "flex": null,
            "flex_flow": null,
            "grid_area": null,
            "grid_auto_columns": null,
            "grid_auto_flow": null,
            "grid_auto_rows": null,
            "grid_column": null,
            "grid_gap": null,
            "grid_row": null,
            "grid_template_areas": null,
            "grid_template_columns": null,
            "grid_template_rows": null,
            "height": null,
            "justify_content": null,
            "justify_items": null,
            "left": null,
            "margin": null,
            "max_height": null,
            "max_width": null,
            "min_height": null,
            "min_width": null,
            "object_fit": null,
            "object_position": null,
            "order": null,
            "overflow": null,
            "overflow_x": null,
            "overflow_y": null,
            "padding": null,
            "right": null,
            "top": null,
            "visibility": null,
            "width": null
          }
        },
        "15e0707af73f4c1f93b97481ff61a430": {
          "model_module": "@jupyter-widgets/controls",
          "model_name": "DescriptionStyleModel",
          "model_module_version": "1.5.0",
          "state": {
            "_model_module": "@jupyter-widgets/controls",
            "_model_module_version": "1.5.0",
            "_model_name": "DescriptionStyleModel",
            "_view_count": null,
            "_view_module": "@jupyter-widgets/base",
            "_view_module_version": "1.2.0",
            "_view_name": "StyleView",
            "description_width": ""
          }
        },
        "77eca641145147f995ea1e8222197202": {
          "model_module": "@jupyter-widgets/base",
          "model_name": "LayoutModel",
          "model_module_version": "1.2.0",
          "state": {
            "_model_module": "@jupyter-widgets/base",
            "_model_module_version": "1.2.0",
            "_model_name": "LayoutModel",
            "_view_count": null,
            "_view_module": "@jupyter-widgets/base",
            "_view_module_version": "1.2.0",
            "_view_name": "LayoutView",
            "align_content": null,
            "align_items": null,
            "align_self": null,
            "border": null,
            "bottom": null,
            "display": null,
            "flex": null,
            "flex_flow": null,
            "grid_area": null,
            "grid_auto_columns": null,
            "grid_auto_flow": null,
            "grid_auto_rows": null,
            "grid_column": null,
            "grid_gap": null,
            "grid_row": null,
            "grid_template_areas": null,
            "grid_template_columns": null,
            "grid_template_rows": null,
            "height": null,
            "justify_content": null,
            "justify_items": null,
            "left": null,
            "margin": null,
            "max_height": null,
            "max_width": null,
            "min_height": null,
            "min_width": null,
            "object_fit": null,
            "object_position": null,
            "order": null,
            "overflow": null,
            "overflow_x": null,
            "overflow_y": null,
            "padding": null,
            "right": null,
            "top": null,
            "visibility": null,
            "width": null
          }
        },
        "1b54bcc5d84e44609ea42088526f9657": {
          "model_module": "@jupyter-widgets/controls",
          "model_name": "ProgressStyleModel",
          "model_module_version": "1.5.0",
          "state": {
            "_model_module": "@jupyter-widgets/controls",
            "_model_module_version": "1.5.0",
            "_model_name": "ProgressStyleModel",
            "_view_count": null,
            "_view_module": "@jupyter-widgets/base",
            "_view_module_version": "1.2.0",
            "_view_name": "StyleView",
            "bar_color": null,
            "description_width": ""
          }
        },
        "e516708ff8b2444fbdc7bbae887896c3": {
          "model_module": "@jupyter-widgets/base",
          "model_name": "LayoutModel",
          "model_module_version": "1.2.0",
          "state": {
            "_model_module": "@jupyter-widgets/base",
            "_model_module_version": "1.2.0",
            "_model_name": "LayoutModel",
            "_view_count": null,
            "_view_module": "@jupyter-widgets/base",
            "_view_module_version": "1.2.0",
            "_view_name": "LayoutView",
            "align_content": null,
            "align_items": null,
            "align_self": null,
            "border": null,
            "bottom": null,
            "display": null,
            "flex": null,
            "flex_flow": null,
            "grid_area": null,
            "grid_auto_columns": null,
            "grid_auto_flow": null,
            "grid_auto_rows": null,
            "grid_column": null,
            "grid_gap": null,
            "grid_row": null,
            "grid_template_areas": null,
            "grid_template_columns": null,
            "grid_template_rows": null,
            "height": null,
            "justify_content": null,
            "justify_items": null,
            "left": null,
            "margin": null,
            "max_height": null,
            "max_width": null,
            "min_height": null,
            "min_width": null,
            "object_fit": null,
            "object_position": null,
            "order": null,
            "overflow": null,
            "overflow_x": null,
            "overflow_y": null,
            "padding": null,
            "right": null,
            "top": null,
            "visibility": null,
            "width": null
          }
        },
        "165615921c9246f7af1d5728a253f7a3": {
          "model_module": "@jupyter-widgets/controls",
          "model_name": "DescriptionStyleModel",
          "model_module_version": "1.5.0",
          "state": {
            "_model_module": "@jupyter-widgets/controls",
            "_model_module_version": "1.5.0",
            "_model_name": "DescriptionStyleModel",
            "_view_count": null,
            "_view_module": "@jupyter-widgets/base",
            "_view_module_version": "1.2.0",
            "_view_name": "StyleView",
            "description_width": ""
          }
        },
        "d617ab79ce504c67beafd147afeee269": {
          "model_module": "@jupyter-widgets/controls",
          "model_name": "HBoxModel",
          "model_module_version": "1.5.0",
          "state": {
            "_dom_classes": [],
            "_model_module": "@jupyter-widgets/controls",
            "_model_module_version": "1.5.0",
            "_model_name": "HBoxModel",
            "_view_count": null,
            "_view_module": "@jupyter-widgets/controls",
            "_view_module_version": "1.5.0",
            "_view_name": "HBoxView",
            "box_style": "",
            "children": [
              "IPY_MODEL_452096118fe545c3a626c7888d02f422",
              "IPY_MODEL_bf12fbd8a8df4a8ca55ba1381c4e1b90",
              "IPY_MODEL_3291b247349f4d7e8489993b0cd6e277"
            ],
            "layout": "IPY_MODEL_e6e8188a4ffb4416b3ae54e8457dbe90"
          }
        },
        "452096118fe545c3a626c7888d02f422": {
          "model_module": "@jupyter-widgets/controls",
          "model_name": "HTMLModel",
          "model_module_version": "1.5.0",
          "state": {
            "_dom_classes": [],
            "_model_module": "@jupyter-widgets/controls",
            "_model_module_version": "1.5.0",
            "_model_name": "HTMLModel",
            "_view_count": null,
            "_view_module": "@jupyter-widgets/controls",
            "_view_module_version": "1.5.0",
            "_view_name": "HTMLView",
            "description": "",
            "description_tooltip": null,
            "layout": "IPY_MODEL_3d2c3282ff0343c19b9ca9bd83157a8d",
            "placeholder": "​",
            "style": "IPY_MODEL_a176c0373e304311bb5d0beb6b79db84",
            "value": "100%"
          }
        },
        "bf12fbd8a8df4a8ca55ba1381c4e1b90": {
          "model_module": "@jupyter-widgets/controls",
          "model_name": "FloatProgressModel",
          "model_module_version": "1.5.0",
          "state": {
            "_dom_classes": [],
            "_model_module": "@jupyter-widgets/controls",
            "_model_module_version": "1.5.0",
            "_model_name": "FloatProgressModel",
            "_view_count": null,
            "_view_module": "@jupyter-widgets/controls",
            "_view_module_version": "1.5.0",
            "_view_name": "ProgressView",
            "bar_style": "success",
            "description": "",
            "description_tooltip": null,
            "layout": "IPY_MODEL_7241039ae4934c4db55a9a3c00323346",
            "max": 260,
            "min": 0,
            "orientation": "horizontal",
            "style": "IPY_MODEL_b94a85bbcc7947cea19c8f6578da1e21",
            "value": 260
          }
        },
        "3291b247349f4d7e8489993b0cd6e277": {
          "model_module": "@jupyter-widgets/controls",
          "model_name": "HTMLModel",
          "model_module_version": "1.5.0",
          "state": {
            "_dom_classes": [],
            "_model_module": "@jupyter-widgets/controls",
            "_model_module_version": "1.5.0",
            "_model_name": "HTMLModel",
            "_view_count": null,
            "_view_module": "@jupyter-widgets/controls",
            "_view_module_version": "1.5.0",
            "_view_name": "HTMLView",
            "description": "",
            "description_tooltip": null,
            "layout": "IPY_MODEL_e51df7c86ae54988bc108715abca6bec",
            "placeholder": "​",
            "style": "IPY_MODEL_5896f3c252774d9baac8356b825fa74a",
            "value": " 260/260 [01:13&lt;00:00,  3.91it/s]"
          }
        },
        "e6e8188a4ffb4416b3ae54e8457dbe90": {
          "model_module": "@jupyter-widgets/base",
          "model_name": "LayoutModel",
          "model_module_version": "1.2.0",
          "state": {
            "_model_module": "@jupyter-widgets/base",
            "_model_module_version": "1.2.0",
            "_model_name": "LayoutModel",
            "_view_count": null,
            "_view_module": "@jupyter-widgets/base",
            "_view_module_version": "1.2.0",
            "_view_name": "LayoutView",
            "align_content": null,
            "align_items": null,
            "align_self": null,
            "border": null,
            "bottom": null,
            "display": null,
            "flex": null,
            "flex_flow": null,
            "grid_area": null,
            "grid_auto_columns": null,
            "grid_auto_flow": null,
            "grid_auto_rows": null,
            "grid_column": null,
            "grid_gap": null,
            "grid_row": null,
            "grid_template_areas": null,
            "grid_template_columns": null,
            "grid_template_rows": null,
            "height": null,
            "justify_content": null,
            "justify_items": null,
            "left": null,
            "margin": null,
            "max_height": null,
            "max_width": null,
            "min_height": null,
            "min_width": null,
            "object_fit": null,
            "object_position": null,
            "order": null,
            "overflow": null,
            "overflow_x": null,
            "overflow_y": null,
            "padding": null,
            "right": null,
            "top": null,
            "visibility": null,
            "width": null
          }
        },
        "3d2c3282ff0343c19b9ca9bd83157a8d": {
          "model_module": "@jupyter-widgets/base",
          "model_name": "LayoutModel",
          "model_module_version": "1.2.0",
          "state": {
            "_model_module": "@jupyter-widgets/base",
            "_model_module_version": "1.2.0",
            "_model_name": "LayoutModel",
            "_view_count": null,
            "_view_module": "@jupyter-widgets/base",
            "_view_module_version": "1.2.0",
            "_view_name": "LayoutView",
            "align_content": null,
            "align_items": null,
            "align_self": null,
            "border": null,
            "bottom": null,
            "display": null,
            "flex": null,
            "flex_flow": null,
            "grid_area": null,
            "grid_auto_columns": null,
            "grid_auto_flow": null,
            "grid_auto_rows": null,
            "grid_column": null,
            "grid_gap": null,
            "grid_row": null,
            "grid_template_areas": null,
            "grid_template_columns": null,
            "grid_template_rows": null,
            "height": null,
            "justify_content": null,
            "justify_items": null,
            "left": null,
            "margin": null,
            "max_height": null,
            "max_width": null,
            "min_height": null,
            "min_width": null,
            "object_fit": null,
            "object_position": null,
            "order": null,
            "overflow": null,
            "overflow_x": null,
            "overflow_y": null,
            "padding": null,
            "right": null,
            "top": null,
            "visibility": null,
            "width": null
          }
        },
        "a176c0373e304311bb5d0beb6b79db84": {
          "model_module": "@jupyter-widgets/controls",
          "model_name": "DescriptionStyleModel",
          "model_module_version": "1.5.0",
          "state": {
            "_model_module": "@jupyter-widgets/controls",
            "_model_module_version": "1.5.0",
            "_model_name": "DescriptionStyleModel",
            "_view_count": null,
            "_view_module": "@jupyter-widgets/base",
            "_view_module_version": "1.2.0",
            "_view_name": "StyleView",
            "description_width": ""
          }
        },
        "7241039ae4934c4db55a9a3c00323346": {
          "model_module": "@jupyter-widgets/base",
          "model_name": "LayoutModel",
          "model_module_version": "1.2.0",
          "state": {
            "_model_module": "@jupyter-widgets/base",
            "_model_module_version": "1.2.0",
            "_model_name": "LayoutModel",
            "_view_count": null,
            "_view_module": "@jupyter-widgets/base",
            "_view_module_version": "1.2.0",
            "_view_name": "LayoutView",
            "align_content": null,
            "align_items": null,
            "align_self": null,
            "border": null,
            "bottom": null,
            "display": null,
            "flex": null,
            "flex_flow": null,
            "grid_area": null,
            "grid_auto_columns": null,
            "grid_auto_flow": null,
            "grid_auto_rows": null,
            "grid_column": null,
            "grid_gap": null,
            "grid_row": null,
            "grid_template_areas": null,
            "grid_template_columns": null,
            "grid_template_rows": null,
            "height": null,
            "justify_content": null,
            "justify_items": null,
            "left": null,
            "margin": null,
            "max_height": null,
            "max_width": null,
            "min_height": null,
            "min_width": null,
            "object_fit": null,
            "object_position": null,
            "order": null,
            "overflow": null,
            "overflow_x": null,
            "overflow_y": null,
            "padding": null,
            "right": null,
            "top": null,
            "visibility": null,
            "width": null
          }
        },
        "b94a85bbcc7947cea19c8f6578da1e21": {
          "model_module": "@jupyter-widgets/controls",
          "model_name": "ProgressStyleModel",
          "model_module_version": "1.5.0",
          "state": {
            "_model_module": "@jupyter-widgets/controls",
            "_model_module_version": "1.5.0",
            "_model_name": "ProgressStyleModel",
            "_view_count": null,
            "_view_module": "@jupyter-widgets/base",
            "_view_module_version": "1.2.0",
            "_view_name": "StyleView",
            "bar_color": null,
            "description_width": ""
          }
        },
        "e51df7c86ae54988bc108715abca6bec": {
          "model_module": "@jupyter-widgets/base",
          "model_name": "LayoutModel",
          "model_module_version": "1.2.0",
          "state": {
            "_model_module": "@jupyter-widgets/base",
            "_model_module_version": "1.2.0",
            "_model_name": "LayoutModel",
            "_view_count": null,
            "_view_module": "@jupyter-widgets/base",
            "_view_module_version": "1.2.0",
            "_view_name": "LayoutView",
            "align_content": null,
            "align_items": null,
            "align_self": null,
            "border": null,
            "bottom": null,
            "display": null,
            "flex": null,
            "flex_flow": null,
            "grid_area": null,
            "grid_auto_columns": null,
            "grid_auto_flow": null,
            "grid_auto_rows": null,
            "grid_column": null,
            "grid_gap": null,
            "grid_row": null,
            "grid_template_areas": null,
            "grid_template_columns": null,
            "grid_template_rows": null,
            "height": null,
            "justify_content": null,
            "justify_items": null,
            "left": null,
            "margin": null,
            "max_height": null,
            "max_width": null,
            "min_height": null,
            "min_width": null,
            "object_fit": null,
            "object_position": null,
            "order": null,
            "overflow": null,
            "overflow_x": null,
            "overflow_y": null,
            "padding": null,
            "right": null,
            "top": null,
            "visibility": null,
            "width": null
          }
        },
        "5896f3c252774d9baac8356b825fa74a": {
          "model_module": "@jupyter-widgets/controls",
          "model_name": "DescriptionStyleModel",
          "model_module_version": "1.5.0",
          "state": {
            "_model_module": "@jupyter-widgets/controls",
            "_model_module_version": "1.5.0",
            "_model_name": "DescriptionStyleModel",
            "_view_count": null,
            "_view_module": "@jupyter-widgets/base",
            "_view_module_version": "1.2.0",
            "_view_name": "StyleView",
            "description_width": ""
          }
        }
      }
    }
  },
  "nbformat_minor": 0,
  "nbformat": 4,
  "cells": [
    {
      "cell_type": "markdown",
      "metadata": {
        "id": "view-in-github",
        "colab_type": "text"
      },
      "source": [
        "<a href=\"https://colab.research.google.com/github/RayGone/SentimentAnalysis/blob/phase2/Experiments/HybridTransformer2SVM_4SA.ipynb\" target=\"_parent\"><img src=\"https://colab.research.google.com/assets/colab-badge.svg\" alt=\"Open In Colab\"/></a>"
      ]
    },
    {
      "cell_type": "code",
      "source": [
        "# !pip install transformers tokenizers datasets huggingface_hub --quiet\n",
        "\n",
        "import numpy as np\n",
        "import random\n",
        "import os\n",
        "import tensorflow as tf\n",
        "from transformers import set_seed\n",
        "\n",
        "rand_seed = 9\n",
        "\n",
        "def seed_everything(seed=0):\n",
        "    random.seed(seed) # random\n",
        "    os.environ['PYTHONHASHSEED'] = str(seed) # python enviroment\n",
        "    np.random.seed(seed) # numpy\n",
        "    tf.keras.utils.set_random_seed(seed) # tensorflow\n",
        "    tf.random.set_seed(seed) # tensorflow\n",
        "    set_seed(seed) # hugging_face transformer\n",
        "\n",
        "seed_everything(rand_seed)"
      ],
      "metadata": {
        "id": "FaeuKCXwLTTv",
        "execution": {
          "iopub.status.busy": "2023-08-09T13:25:50.795951Z",
          "iopub.execute_input": "2023-08-09T13:25:50.796345Z",
          "iopub.status.idle": "2023-08-09T13:26:04.892971Z",
          "shell.execute_reply.started": "2023-08-09T13:25:50.796311Z",
          "shell.execute_reply": "2023-08-09T13:26:04.891821Z"
        },
        "trusted": true,
        "outputId": "77d71435-829f-45fc-8610-6c2c51697041"
      },
      "execution_count": null,
      "outputs": [
        {
          "name": "stderr",
          "text": "/opt/conda/lib/python3.10/site-packages/scipy/__init__.py:146: UserWarning: A NumPy version >=1.16.5 and <1.23.0 is required for this version of SciPy (detected version 1.23.5\n  warnings.warn(f\"A NumPy version >={np_minversion} and <{np_maxversion}\"\n/opt/conda/lib/python3.10/site-packages/tensorflow_io/python/ops/__init__.py:98: UserWarning: unable to load libtensorflow_io_plugins.so: unable to open file: libtensorflow_io_plugins.so, from paths: ['/opt/conda/lib/python3.10/site-packages/tensorflow_io/python/ops/libtensorflow_io_plugins.so']\ncaused by: ['/opt/conda/lib/python3.10/site-packages/tensorflow_io/python/ops/libtensorflow_io_plugins.so: undefined symbol: _ZN3tsl6StatusC1EN10tensorflow5error4CodeESt17basic_string_viewIcSt11char_traitsIcEENS_14SourceLocationE']\n  warnings.warn(f\"unable to load libtensorflow_io_plugins.so: {e}\")\n/opt/conda/lib/python3.10/site-packages/tensorflow_io/python/ops/__init__.py:104: UserWarning: file system plugins are not loaded: unable to open file: libtensorflow_io.so, from paths: ['/opt/conda/lib/python3.10/site-packages/tensorflow_io/python/ops/libtensorflow_io.so']\ncaused by: ['/opt/conda/lib/python3.10/site-packages/tensorflow_io/python/ops/libtensorflow_io.so: undefined symbol: _ZTVN10tensorflow13GcsFileSystemE']\n  warnings.warn(f\"file system plugins are not loaded: {e}\")\n",
          "output_type": "stream"
        }
      ]
    },
    {
      "cell_type": "code",
      "source": [
        "from transformers import PreTrainedTokenizerFast, BertTokenizerFast, TFAutoModel\n",
        "import datasets\n",
        "\n",
        "gptModel = 'raygx/GPT-NepSA-T2' ## Fine-tuned Model ## 'raygx/Nepali-GPT2-CausalLM' ## Pre-Trained LM ##\n",
        "gptTokenizer = PreTrainedTokenizerFast.from_pretrained(gptModel,padding_side='left')\n",
        "gptModel = TFAutoModel.from_pretrained(gptModel)\n",
        "\n",
        "bertModel = 'raygx/BERT-NepSA-T2' ## Fine-tuned Model for SA ## 'raygx/BertClassifier4NepaliNews' ## Fine-tuned Model for NewsClassification ## 'Shushant/nepaliBERT' ## Pre-Trained LM ##\n",
        "bertTokenizer = BertTokenizerFast.from_pretrained(bertModel)\n",
        "try:\n",
        "    bertModel = TFAutoModel.from_pretrained(bertModel)#,revision='3d8fa5f1a60104bad4592461a0237b85b9c8756c')\n",
        "except:\n",
        "    bertModel = TFAutoModel.from_pretrained(bertModel,from_pt=True)\n",
        "\n",
        "gptModel.config, bertModel.config"
      ],
      "metadata": {
        "id": "MpQvy09eLrDP",
        "colab": {
          "base_uri": "https://localhost:8080/",
          "height": 811,
          "referenced_widgets": [
            "5db80f1c9c214b09aa3d39406f2dd3a3",
            "047c82cc71de4a7d8b0e4da537b7c301",
            "9a3f3e3dafb641098324bb73ef3d4f1e",
            "8e4b3bf3d4784dc18345b8faa1626d03",
            "446b36429a2446c89f01c4605844b734",
            "6806a3eb3e9848118bfca84ad4b3c95f",
            "fb7861523a52488d8c8895e98a6d9c29",
            "5adcd10b3afc44369b0ad06679cffad1",
            "adbe3b57d6b84ce1a07eba1c5cc8dcfa",
            "0a4a4fdfb77042bc89ddf959f2b3b37e",
            "db6c6787cc2e40e79c773e9805e2f240",
            "3454604f275e467cb582ab0cd82c3f91",
            "ffa55db656cd460bbfd0b6028aedb304",
            "a860c779473c476c85ad5220a4ea33d3",
            "a1390425945c44059daaa82193de36b9",
            "bb2ffd58907242fb9864745c909a44ec",
            "f0f4beec55844af8a78c951d696e7af7",
            "6c61999a7512495d85cec09242fc3efb",
            "21000cd2134f4d59b255e881b78124bf",
            "8db924e7888c49b5900a0cfd59a75d10",
            "9082764bdc8b4723bacd45ef006efff0",
            "405f90d24e554e09b8fd1d488430253a",
            "32b709be58ee4a019ffd4d61759c805e",
            "22e3060d58ea40f5b6a2ff10441e66b9"
          ]
        },
        "outputId": "029308aa-132c-46e6-f1f9-5bb57cea6d95",
        "execution": {
          "iopub.status.busy": "2023-08-09T14:05:08.180076Z",
          "iopub.execute_input": "2023-08-09T14:05:08.180973Z",
          "iopub.status.idle": "2023-08-09T14:05:21.610688Z",
          "shell.execute_reply.started": "2023-08-09T14:05:08.180937Z",
          "shell.execute_reply": "2023-08-09T14:05:21.609397Z"
        },
        "trusted": true
      },
      "execution_count": null,
      "outputs": [
        {
          "name": "stderr",
          "text": "Some layers from the model checkpoint at raygx/GPT-NepSA-T2 were not used when initializing TFGPT2Model: ['score']\n- This IS expected if you are initializing TFGPT2Model from the checkpoint of a model trained on another task or with another architecture (e.g. initializing a BertForSequenceClassification model from a BertForPreTraining model).\n- This IS NOT expected if you are initializing TFGPT2Model from the checkpoint of a model that you expect to be exactly identical (initializing a BertForSequenceClassification model from a BertForSequenceClassification model).\nAll the layers of TFGPT2Model were initialized from the model checkpoint at raygx/GPT-NepSA-T2.\nIf your task is similar to the task the model of the checkpoint was trained on, you can already use TFGPT2Model for predictions without further training.\n",
          "output_type": "stream"
        },
        {
          "output_type": "display_data",
          "data": {
            "text/plain": "Downloading (…)lve/main/config.json:   0%|          | 0.00/803 [00:00<?, ?B/s]",
            "application/vnd.jupyter.widget-view+json": {
              "version_major": 2,
              "version_minor": 0,
              "model_id": "32b709be58ee4a019ffd4d61759c805e"
            }
          },
          "metadata": {}
        },
        {
          "output_type": "display_data",
          "data": {
            "text/plain": "Downloading tf_model.h5:   0%|          | 0.00/438M [00:00<?, ?B/s]",
            "application/vnd.jupyter.widget-view+json": {
              "version_major": 2,
              "version_minor": 0,
              "model_id": "22e3060d58ea40f5b6a2ff10441e66b9"
            }
          },
          "metadata": {}
        },
        {
          "name": "stderr",
          "text": "Some layers from the model checkpoint at raygx/BERT-NepSA-T2 were not used when initializing TFBertModel: ['dropout_37', 'classifier']\n- This IS expected if you are initializing TFBertModel from the checkpoint of a model trained on another task or with another architecture (e.g. initializing a BertForSequenceClassification model from a BertForPreTraining model).\n- This IS NOT expected if you are initializing TFBertModel from the checkpoint of a model that you expect to be exactly identical (initializing a BertForSequenceClassification model from a BertForSequenceClassification model).\nAll the layers of TFBertModel were initialized from the model checkpoint at raygx/BERT-NepSA-T2.\nIf your task is similar to the task the model of the checkpoint was trained on, you can already use TFBertModel for predictions without further training.\n",
          "output_type": "stream"
        },
        {
          "execution_count": 27,
          "output_type": "execute_result",
          "data": {
            "text/plain": "(GPT2Config {\n   \"_name_or_path\": \"raygx/GPT-NepSA-T2\",\n   \"activation_function\": \"gelu_new\",\n   \"architectures\": [\n     \"GPT2ForSequenceClassification\"\n   ],\n   \"attn_pdrop\": 0.1,\n   \"bos_token_id\": 1,\n   \"embd_pdrop\": 0.1,\n   \"eos_token_id\": 2,\n   \"id2label\": {\n     \"0\": \"NEUTRAL\",\n     \"1\": \"POSITIVE\",\n     \"2\": \"NEGATIVE\"\n   },\n   \"initializer_range\": 0.02,\n   \"label2id\": {\n     \"NEGATIVE\": 2,\n     \"NEUTRAL\": 0,\n     \"POSITIVE\": 1\n   },\n   \"layer_norm_epsilon\": 1e-05,\n   \"model_type\": \"gpt2\",\n   \"n_ctx\": 1024,\n   \"n_embd\": 768,\n   \"n_head\": 12,\n   \"n_inner\": null,\n   \"n_layer\": 12,\n   \"n_positions\": 1024,\n   \"pad_token_id\": 3,\n   \"reorder_and_upcast_attn\": false,\n   \"resid_pdrop\": 0.1,\n   \"scale_attn_by_inverse_layer_idx\": false,\n   \"scale_attn_weights\": true,\n   \"summary_activation\": null,\n   \"summary_first_dropout\": 0.1,\n   \"summary_proj_to_labels\": true,\n   \"summary_type\": \"cls_index\",\n   \"summary_use_proj\": true,\n   \"task_specific_params\": {\n     \"text-generation\": {\n       \"do_sample\": true,\n       \"max_length\": 50\n     }\n   },\n   \"transformers_version\": \"4.30.2\",\n   \"use_cache\": true,\n   \"vocab_size\": 50000\n },\n BertConfig {\n   \"_name_or_path\": \"raygx/BERT-NepSA-T2\",\n   \"architectures\": [\n     \"BertForSequenceClassification\"\n   ],\n   \"attention_probs_dropout_prob\": 0.1,\n   \"classifier_dropout\": null,\n   \"hidden_act\": \"gelu\",\n   \"hidden_dropout_prob\": 0.1,\n   \"hidden_size\": 768,\n   \"id2label\": {\n     \"0\": \"NEUTRAL\",\n     \"1\": \"POSITIVE\",\n     \"2\": \"NEGATIVE\"\n   },\n   \"initializer_range\": 0.02,\n   \"intermediate_size\": 3072,\n   \"label2id\": {\n     \"NEGATIVE\": 2,\n     \"NEUTRAL\": 0,\n     \"POSITIVE\": 1\n   },\n   \"layer_norm_eps\": 1e-12,\n   \"max_position_embeddings\": 512,\n   \"model_type\": \"bert\",\n   \"num_attention_heads\": 12,\n   \"num_hidden_layers\": 12,\n   \"pad_token_id\": 0,\n   \"position_embedding_type\": \"absolute\",\n   \"torch_dtype\": \"float32\",\n   \"transformers_version\": \"4.30.2\",\n   \"type_vocab_size\": 2,\n   \"use_cache\": true,\n   \"vocab_size\": 30522\n })"
          },
          "metadata": {}
        }
      ]
    },
    {
      "cell_type": "code",
      "source": [
        "print(\"#######################Using NepCov19Tweets#########################\")\n",
        "data = datasets.load_dataset(\"raygx/NepCov19TweetsPlus\")\n",
        "\n",
        "data = data.rename_columns({\"Sentiment\":\"label\",\"Sentences\":\"text\"})\n",
        "data"
      ],
      "metadata": {
        "id": "a_QC_q19L1Ou",
        "colab": {
          "base_uri": "https://localhost:8080/",
          "height": 211,
          "referenced_widgets": [
            "674a03de4e9a4ad5acf637d190c6a0d2",
            "a509bf8a84044e828bf28e06984468a8",
            "abe5cff19ddc4ad480740fd1b2e4e4ae",
            "24eadca16c724e74860dfa6c017f58e4",
            "c7660fed2ad84e0691ae5a54cb788c06",
            "0ec7eab3b3414ba581f47e5fb36ac9ee",
            "eead9fb5bb9a41fdbf101fefd19b8371",
            "5b6dca631f01458c998d1153c4ca846b",
            "b1556e1759bb4597b02db8a8d8c108f5",
            "04a979d609f8410da88921d61c75bf2f",
            "172e6de2109c4e2183479b9950b9033f",
            "e5f5c4530fec4235ad2a6b9ec175f9d8"
          ]
        },
        "outputId": "39c4ed3f-98e5-486f-acfd-e930514250e1",
        "execution": {
          "iopub.status.busy": "2023-08-09T14:05:21.613153Z",
          "iopub.execute_input": "2023-08-09T14:05:21.613542Z",
          "iopub.status.idle": "2023-08-09T14:05:21.980842Z",
          "shell.execute_reply.started": "2023-08-09T14:05:21.613504Z",
          "shell.execute_reply": "2023-08-09T14:05:21.979772Z"
        },
        "trusted": true
      },
      "execution_count": null,
      "outputs": [
        {
          "name": "stdout",
          "text": "#######################Using NepCov19Tweets#########################\n",
          "output_type": "stream"
        },
        {
          "output_type": "display_data",
          "data": {
            "text/plain": "  0%|          | 0/1 [00:00<?, ?it/s]",
            "application/vnd.jupyter.widget-view+json": {
              "version_major": 2,
              "version_minor": 0,
              "model_id": "e5f5c4530fec4235ad2a6b9ec175f9d8"
            }
          },
          "metadata": {}
        },
        {
          "execution_count": 28,
          "output_type": "execute_result",
          "data": {
            "text/plain": "DatasetDict({\n    train: Dataset({\n        features: ['label', 'text'],\n        num_rows: 41541\n    })\n})"
          },
          "metadata": {}
        }
      ]
    },
    {
      "cell_type": "code",
      "source": [
        "data = data.shuffle(rand_seed)\n",
        "data = data['train'].train_test_split(test_size=0.2)\n",
        "data"
      ],
      "metadata": {
        "id": "d7uej8sIMibs",
        "colab": {
          "base_uri": "https://localhost:8080/"
        },
        "outputId": "5f066f74-ea37-48e1-dd1d-3f6aa85919aa",
        "execution": {
          "iopub.status.busy": "2023-08-09T14:05:21.982300Z",
          "iopub.execute_input": "2023-08-09T14:05:21.983331Z",
          "iopub.status.idle": "2023-08-09T14:05:22.989172Z",
          "shell.execute_reply.started": "2023-08-09T14:05:21.983293Z",
          "shell.execute_reply": "2023-08-09T14:05:22.987987Z"
        },
        "trusted": true
      },
      "execution_count": null,
      "outputs": [
        {
          "execution_count": 29,
          "output_type": "execute_result",
          "data": {
            "text/plain": "DatasetDict({\n    train: Dataset({\n        features: ['label', 'text'],\n        num_rows: 33232\n    })\n    test: Dataset({\n        features: ['label', 'text'],\n        num_rows: 8309\n    })\n})"
          },
          "metadata": {}
        }
      ]
    },
    {
      "cell_type": "code",
      "source": [
        "def prepareLabels(row):\n",
        "    if row['label'] == -1:\n",
        "        row['label'] = 2\n",
        "\n",
        "    return row\n",
        "\n",
        "data = data.map(\n",
        "        prepareLabels,\n",
        "        num_proc=4)\n",
        "\n",
        "data"
      ],
      "metadata": {
        "id": "mJgrJxkxMlGE",
        "colab": {
          "base_uri": "https://localhost:8080/",
          "referenced_widgets": [
            "d5004d22d4454fdba9ff107f8e7c0168",
            "651ac6012b604c56b2d749884c5c56b7",
            "302997d592334ceda4074008bf1a2876",
            "fd0fa1783546469580e55968b6ba8986",
            "1f6c4dfe11b84ec2b1c777298a63ccf5",
            "6b2f672bb77a4b7c9291bda6d303345e",
            "fe57ca44822c4fa4892c40f1d0e21f45",
            "53fe64b0dc284db98f5ec7cde337b8b5"
          ]
        },
        "outputId": "8135fd01-c616-40d7-cb61-9230c797d6c5",
        "execution": {
          "iopub.status.busy": "2023-08-09T14:05:22.993305Z",
          "iopub.execute_input": "2023-08-09T14:05:22.993626Z",
          "iopub.status.idle": "2023-08-09T14:05:28.489555Z",
          "shell.execute_reply.started": "2023-08-09T14:05:22.993599Z",
          "shell.execute_reply": "2023-08-09T14:05:28.488318Z"
        },
        "trusted": true
      },
      "execution_count": null,
      "outputs": [
        {
          "name": "stdout",
          "text": "       ",
          "output_type": "stream"
        },
        {
          "output_type": "display_data",
          "data": {
            "text/plain": "#0:   0%|          | 0/8308 [00:00<?, ?ex/s]",
            "application/vnd.jupyter.widget-view+json": {
              "version_major": 2,
              "version_minor": 0,
              "model_id": "d5004d22d4454fdba9ff107f8e7c0168"
            }
          },
          "metadata": {}
        },
        {
          "name": "stdout",
          "text": " ",
          "output_type": "stream"
        },
        {
          "output_type": "display_data",
          "data": {
            "text/plain": "#1:   0%|          | 0/8308 [00:00<?, ?ex/s]",
            "application/vnd.jupyter.widget-view+json": {
              "version_major": 2,
              "version_minor": 0,
              "model_id": "651ac6012b604c56b2d749884c5c56b7"
            }
          },
          "metadata": {}
        },
        {
          "output_type": "display_data",
          "data": {
            "text/plain": "#2:   0%|          | 0/8308 [00:00<?, ?ex/s]",
            "application/vnd.jupyter.widget-view+json": {
              "version_major": 2,
              "version_minor": 0,
              "model_id": "302997d592334ceda4074008bf1a2876"
            }
          },
          "metadata": {}
        },
        {
          "output_type": "display_data",
          "data": {
            "text/plain": "#3:   0%|          | 0/8308 [00:00<?, ?ex/s]",
            "application/vnd.jupyter.widget-view+json": {
              "version_major": 2,
              "version_minor": 0,
              "model_id": "fd0fa1783546469580e55968b6ba8986"
            }
          },
          "metadata": {}
        },
        {
          "name": "stdout",
          "text": "      ",
          "output_type": "stream"
        },
        {
          "output_type": "display_data",
          "data": {
            "text/plain": "#0:   0%|          | 0/2078 [00:00<?, ?ex/s]",
            "application/vnd.jupyter.widget-view+json": {
              "version_major": 2,
              "version_minor": 0,
              "model_id": "1f6c4dfe11b84ec2b1c777298a63ccf5"
            }
          },
          "metadata": {}
        },
        {
          "name": "stdout",
          "text": "  ",
          "output_type": "stream"
        },
        {
          "output_type": "display_data",
          "data": {
            "text/plain": "#1:   0%|          | 0/2077 [00:00<?, ?ex/s]",
            "application/vnd.jupyter.widget-view+json": {
              "version_major": 2,
              "version_minor": 0,
              "model_id": "6b2f672bb77a4b7c9291bda6d303345e"
            }
          },
          "metadata": {}
        },
        {
          "output_type": "display_data",
          "data": {
            "text/plain": "#2:   0%|          | 0/2077 [00:00<?, ?ex/s]",
            "application/vnd.jupyter.widget-view+json": {
              "version_major": 2,
              "version_minor": 0,
              "model_id": "fe57ca44822c4fa4892c40f1d0e21f45"
            }
          },
          "metadata": {}
        },
        {
          "output_type": "display_data",
          "data": {
            "text/plain": "#3:   0%|          | 0/2077 [00:00<?, ?ex/s]",
            "application/vnd.jupyter.widget-view+json": {
              "version_major": 2,
              "version_minor": 0,
              "model_id": "53fe64b0dc284db98f5ec7cde337b8b5"
            }
          },
          "metadata": {}
        },
        {
          "execution_count": 30,
          "output_type": "execute_result",
          "data": {
            "text/plain": "DatasetDict({\n    train: Dataset({\n        features: ['label', 'text'],\n        num_rows: 33232\n    })\n    test: Dataset({\n        features: ['label', 'text'],\n        num_rows: 8309\n    })\n})"
          },
          "metadata": {}
        }
      ]
    },
    {
      "cell_type": "code",
      "source": [
        "import tensorflow as tf\n",
        "\n",
        "class GPTEmbedding(tf.keras.layers.Layer):\n",
        "    def __init__(self, model,tokenizer, max_token_len=128,padding='max_length', trailing_context=4,truncation=True):\n",
        "        super().__init__()\n",
        "        self.embedding = model\n",
        "        self.tokenizer = tokenizer\n",
        "        self.tokenizer.padding_side = 'left'\n",
        "        self.max_token = max_token_len\n",
        "        self.padding = padding\n",
        "        self.truncation = truncation\n",
        "        self.trailing_context = trailing_context\n",
        "        self.trainable=False\n",
        "\n",
        "    def call(self, x):\n",
        "        embeddings = self.embedding(\n",
        "                      self.tokenizer(x,padding=self.padding,truncation=self.truncation,max_length=self.max_token,return_tensors='tf')\n",
        "                    )[0][:,-self.trailing_context:,:]\n",
        "\n",
        "        return tf.reduce_logsumexp(embeddings,axis=1)\n",
        "\n",
        "class BERTEmbedding(tf.keras.layers.Layer):\n",
        "    def __init__(self, model,tokenizer, max_token_len=128,padding='max_length',truncation=True):\n",
        "        super().__init__()\n",
        "        self.embedding = model\n",
        "        self.tokenizer = tokenizer\n",
        "        self.max_token = max_token_len\n",
        "        self.padding = padding\n",
        "        self.truncation = truncation\n",
        "        self.trainable=False\n",
        "\n",
        "    def call(self, x):\n",
        "        return self.embedding(self.tokenizer(x,padding=self.padding,truncation=self.truncation,max_length=self.max_token,return_tensors='tf'))[1]"
      ],
      "metadata": {
        "id": "Yv5O9WfxMnYk",
        "execution": {
          "iopub.status.busy": "2023-08-09T14:05:40.534378Z",
          "iopub.execute_input": "2023-08-09T14:05:40.534773Z",
          "iopub.status.idle": "2023-08-09T14:05:40.547346Z",
          "shell.execute_reply.started": "2023-08-09T14:05:40.534737Z",
          "shell.execute_reply": "2023-08-09T14:05:40.546083Z"
        },
        "trusted": true
      },
      "execution_count": null,
      "outputs": []
    },
    {
      "cell_type": "markdown",
      "source": [
        "### Preparing Training Data"
      ],
      "metadata": {
        "id": "Kmi-4OkVQwgf"
      }
    },
    {
      "cell_type": "code",
      "source": [
        "from tqdm.auto import tqdm\n",
        "\n",
        "gptEmbd = GPTEmbedding(model=gptModel,tokenizer=gptTokenizer,trailing_context=1,max_token_len=100)\n",
        "bertEmbd = BERTEmbedding(model=bertModel,tokenizer=bertTokenizer,max_token_len=100)\n",
        "\n",
        "X = None\n",
        "batch = 32\n",
        "for i in tqdm(range(0,data['train'].num_rows,batch)):\n",
        "    feat1 = bertEmbd(data['train'][i:i+batch]['text'])\n",
        "    feat2 = gptEmbd(data['train'][i:i+batch]['text'])\n",
        "\n",
        "    feat = tf.concat((feat1,feat2),1)\n",
        "    if i==0:\n",
        "        X = feat\n",
        "    else:\n",
        "        X = np.concatenate([X,feat],axis=0)\n",
        "\n",
        "X.shape"
      ],
      "metadata": {
        "id": "WTj-yYe8RN3r",
        "colab": {
          "base_uri": "https://localhost:8080/",
          "height": 67,
          "referenced_widgets": [
            "c32378a9d1414ea3b24729acfb890e30",
            "7fa35c3a237445e7a76f62d701584e82",
            "2cb9105987fe45958905522a703a6f35",
            "dcb509de3545450babba6c72fdc687ed",
            "286b5bf45b0643e28cd08acb2114e8d5",
            "5df5c706a80e48de91587ec8aa0f728b",
            "15e0707af73f4c1f93b97481ff61a430",
            "77eca641145147f995ea1e8222197202",
            "1b54bcc5d84e44609ea42088526f9657",
            "e516708ff8b2444fbdc7bbae887896c3",
            "165615921c9246f7af1d5728a253f7a3",
            "d4cbd38d9e2047b5a8c44e08620ce758"
          ]
        },
        "outputId": "e9c9be56-05b1-48d7-93d6-1dda61090c6b",
        "execution": {
          "iopub.status.busy": "2023-08-09T14:05:45.392109Z",
          "iopub.execute_input": "2023-08-09T14:05:45.392499Z",
          "iopub.status.idle": "2023-08-09T14:13:56.469796Z",
          "shell.execute_reply.started": "2023-08-09T14:05:45.392460Z",
          "shell.execute_reply": "2023-08-09T14:13:56.468514Z"
        },
        "trusted": true
      },
      "execution_count": null,
      "outputs": [
        {
          "output_type": "display_data",
          "data": {
            "text/plain": "  0%|          | 0/1039 [00:00<?, ?it/s]",
            "application/vnd.jupyter.widget-view+json": {
              "version_major": 2,
              "version_minor": 0,
              "model_id": "d4cbd38d9e2047b5a8c44e08620ce758"
            }
          },
          "metadata": {}
        },
        {
          "execution_count": 32,
          "output_type": "execute_result",
          "data": {
            "text/plain": "(33232, 1536)"
          },
          "metadata": {}
        }
      ]
    },
    {
      "cell_type": "code",
      "source": [
        "### Attention Visualization\n",
        "# import seaborn as sns\n",
        "\n",
        "# output = bertModel(bertTokenizer(data['train'][:1]['text'],return_tensors='tf'),output_attentions=True)\n",
        "# print(output.keys())\n",
        "# print(output['attentions'][1].shape)\n",
        "\n",
        "### output['attentions'][nLayer][nBatch][nHead]\n",
        "# sns.heatmap(output['attentions'][-2][0][-6])"
      ],
      "metadata": {
        "id": "S6RsWVKOc8Co",
        "execution": {
          "iopub.status.busy": "2023-08-09T14:13:56.472299Z",
          "iopub.execute_input": "2023-08-09T14:13:56.473490Z",
          "iopub.status.idle": "2023-08-09T14:13:56.479287Z",
          "shell.execute_reply.started": "2023-08-09T14:13:56.473443Z",
          "shell.execute_reply": "2023-08-09T14:13:56.478070Z"
        },
        "trusted": true
      },
      "execution_count": null,
      "outputs": []
    },
    {
      "cell_type": "markdown",
      "source": [
        "## Training"
      ],
      "metadata": {
        "id": "Ki6PsivcQuSs"
      }
    },
    {
      "cell_type": "code",
      "source": [
        "%%time\n",
        "from sklearn import svm\n",
        "\n",
        "y = data['train']['label']\n",
        "clf = svm.SVC()  ## default 'rbf'\n",
        "clf.fit(X, y)\n",
        "clf.classes_"
      ],
      "metadata": {
        "id": "Zx7FmyriNCqV",
        "colab": {
          "base_uri": "https://localhost:8080/"
        },
        "outputId": "10e74c10-2134-430d-e021-23c864d5dcf3",
        "execution": {
          "iopub.status.busy": "2023-08-09T14:13:56.481371Z",
          "iopub.execute_input": "2023-08-09T14:13:56.482276Z",
          "iopub.status.idle": "2023-08-09T14:24:03.949432Z",
          "shell.execute_reply.started": "2023-08-09T14:13:56.482227Z",
          "shell.execute_reply": "2023-08-09T14:24:03.948398Z"
        },
        "trusted": true
      },
      "execution_count": null,
      "outputs": [
        {
          "name": "stdout",
          "text": "CPU times: user 10min 4s, sys: 1.16 s, total: 10min 5s\nWall time: 10min 7s\n",
          "output_type": "stream"
        },
        {
          "execution_count": 34,
          "output_type": "execute_result",
          "data": {
            "text/plain": "array([0, 1, 2])"
          },
          "metadata": {}
        }
      ]
    },
    {
      "cell_type": "markdown",
      "source": [
        "### Preparing Test Data"
      ],
      "metadata": {
        "id": "oHPqbA4yQqvy"
      }
    },
    {
      "cell_type": "code",
      "source": [
        "testX = None\n",
        "for i in tqdm(range(0,data['test'].num_rows,batch)):\n",
        "    feat1 = bertEmbd(data['test'][i:i+batch]['text'])\n",
        "    feat2 = gptEmbd(data['test'][i:i+batch]['text'])\n",
        "\n",
        "    feat = tf.concat([feat1,feat2],1)\n",
        "    if i==0:\n",
        "        testX = feat\n",
        "    else:\n",
        "        testX = np.concatenate([testX,feat],axis=0)\n",
        "\n",
        "testX.shape"
      ],
      "metadata": {
        "id": "VFxMYayRMfjR",
        "colab": {
          "base_uri": "https://localhost:8080/",
          "height": 49,
          "referenced_widgets": [
            "d617ab79ce504c67beafd147afeee269",
            "452096118fe545c3a626c7888d02f422",
            "bf12fbd8a8df4a8ca55ba1381c4e1b90",
            "3291b247349f4d7e8489993b0cd6e277",
            "e6e8188a4ffb4416b3ae54e8457dbe90",
            "3d2c3282ff0343c19b9ca9bd83157a8d",
            "a176c0373e304311bb5d0beb6b79db84",
            "7241039ae4934c4db55a9a3c00323346",
            "b94a85bbcc7947cea19c8f6578da1e21",
            "e51df7c86ae54988bc108715abca6bec",
            "5896f3c252774d9baac8356b825fa74a",
            "0e59c20a6c5049c69caa9fc64add420f"
          ]
        },
        "outputId": "65c31170-31dd-4ff6-b87a-3ce1f7de72c9",
        "execution": {
          "iopub.status.busy": "2023-08-09T14:24:03.952336Z",
          "iopub.execute_input": "2023-08-09T14:24:03.953060Z",
          "iopub.status.idle": "2023-08-09T14:25:55.813933Z",
          "shell.execute_reply.started": "2023-08-09T14:24:03.953003Z",
          "shell.execute_reply": "2023-08-09T14:25:55.812880Z"
        },
        "trusted": true
      },
      "execution_count": null,
      "outputs": [
        {
          "output_type": "display_data",
          "data": {
            "text/plain": "  0%|          | 0/260 [00:00<?, ?it/s]",
            "application/vnd.jupyter.widget-view+json": {
              "version_major": 2,
              "version_minor": 0,
              "model_id": "0e59c20a6c5049c69caa9fc64add420f"
            }
          },
          "metadata": {}
        },
        {
          "execution_count": 35,
          "output_type": "execute_result",
          "data": {
            "text/plain": "(8309, 1536)"
          },
          "metadata": {}
        }
      ]
    },
    {
      "cell_type": "markdown",
      "source": [
        "## Evaluation"
      ],
      "metadata": {
        "id": "m-8COYkGQjSd"
      }
    },
    {
      "cell_type": "code",
      "source": [
        "%%time\n",
        "predictions = clf.predict(testX)"
      ],
      "metadata": {
        "id": "1lOihVaLOMga",
        "colab": {
          "base_uri": "https://localhost:8080/"
        },
        "outputId": "3849d102-81d8-47e0-aa7f-0d34c446e4ef",
        "execution": {
          "iopub.status.busy": "2023-08-09T14:25:55.815494Z",
          "iopub.execute_input": "2023-08-09T14:25:55.816518Z",
          "iopub.status.idle": "2023-08-09T14:29:00.967747Z",
          "shell.execute_reply.started": "2023-08-09T14:25:55.816481Z",
          "shell.execute_reply": "2023-08-09T14:29:00.966493Z"
        },
        "trusted": true
      },
      "execution_count": null,
      "outputs": [
        {
          "name": "stdout",
          "text": "CPU times: user 3min 4s, sys: 308 ms, total: 3min 4s\nWall time: 3min 5s\n",
          "output_type": "stream"
        }
      ]
    },
    {
      "cell_type": "code",
      "source": [
        "from sklearn.metrics import f1_score, precision_score, recall_score, accuracy_score\n",
        "\n",
        "y = data['test']['label']\n",
        "print(\"F1-Score\",f1_score(np.array(y),predictions,average='weighted'))\n",
        "print(\"Precision-Score\",precision_score(np.array(y),predictions,average='weighted'))\n",
        "print(\"Recall-Score\",recall_score(np.array(y),predictions,average='weighted'))\n",
        "print(\"accuracy_Score\",accuracy_score(np.array(y),predictions))"
      ],
      "metadata": {
        "id": "ETr9BMVGO2RL",
        "colab": {
          "base_uri": "https://localhost:8080/"
        },
        "outputId": "313b9ae2-a450-47d5-d68b-e799c7b6a58c",
        "execution": {
          "iopub.status.busy": "2023-08-09T14:29:00.969406Z",
          "iopub.execute_input": "2023-08-09T14:29:00.970491Z",
          "iopub.status.idle": "2023-08-09T14:29:01.007888Z",
          "shell.execute_reply.started": "2023-08-09T14:29:00.970453Z",
          "shell.execute_reply": "2023-08-09T14:29:01.006691Z"
        },
        "trusted": true
      },
      "execution_count": null,
      "outputs": [
        {
          "name": "stdout",
          "text": "F1-Score 0.8540843291132019\nPrecision-Score 0.856399122779771\nRecall-Score 0.8538933686364183\naccuracy_Score 0.8538933686364183\n",
          "output_type": "stream"
        }
      ]
    },
    {
      "cell_type": "code",
      "source": [
        "from sklearn.metrics import ConfusionMatrixDisplay\n",
        "import matplotlib.pyplot as plt\n",
        "\n",
        "cmd = ConfusionMatrixDisplay(tf.math.confusion_matrix(np.array(y),predictions,num_classes=3).numpy())\n",
        "cmd.plot()"
      ],
      "metadata": {
        "id": "8Rdi-tw9PMkF",
        "colab": {
          "base_uri": "https://localhost:8080/",
          "height": 467
        },
        "outputId": "c3a2a0cd-880f-4242-da82-fc41a24f4282",
        "execution": {
          "iopub.status.busy": "2023-08-09T14:29:01.009498Z",
          "iopub.execute_input": "2023-08-09T14:29:01.010167Z",
          "iopub.status.idle": "2023-08-09T14:29:01.370963Z",
          "shell.execute_reply.started": "2023-08-09T14:29:01.010128Z",
          "shell.execute_reply": "2023-08-09T14:29:01.369907Z"
        },
        "trusted": true
      },
      "execution_count": null,
      "outputs": [
        {
          "execution_count": 38,
          "output_type": "execute_result",
          "data": {
            "text/plain": "<sklearn.metrics._plot.confusion_matrix.ConfusionMatrixDisplay at 0x7f4473a3bdf0>"
          },
          "metadata": {}
        },
        {
          "output_type": "display_data",
          "data": {
            "text/plain": "<Figure size 640x480 with 2 Axes>",
            "image/png": "[encoded data removed]"
          },
          "metadata": {}
        }
      ]
    },
    {
      "cell_type": "code",
      "source": [],
      "metadata": {
        "id": "Xr_FE8hLQiZw"
      },
      "execution_count": null,
      "outputs": []
    }
  ]
}