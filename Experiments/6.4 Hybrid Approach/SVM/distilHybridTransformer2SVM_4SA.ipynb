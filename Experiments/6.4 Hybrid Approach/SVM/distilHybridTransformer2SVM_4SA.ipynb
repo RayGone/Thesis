{
  "cells": [
    {
      "cell_type": "markdown",
      "metadata": {
        "id": "view-in-github",
        "colab_type": "text"
      },
      "source": [
        "<a href=\"https://colab.research.google.com/github/RayGone/SentimentAnalysis/blob/phase2/Experiments/SVM/distilHybridTransformer2SVM_4SA.ipynb\" target=\"_parent\"><img src=\"https://colab.research.google.com/assets/colab-badge.svg\" alt=\"Open In Colab\"/></a>"
      ]
    },
    {
      "cell_type": "code",
      "execution_count": null,
      "id": "1c2d3785",
      "metadata": {
        "execution": {
          "iopub.execute_input": "2023-08-25T15:42:45.727072Z",
          "iopub.status.busy": "2023-08-25T15:42:45.726295Z",
          "iopub.status.idle": "2023-08-25T15:42:56.794273Z",
          "shell.execute_reply": "2023-08-25T15:42:56.793276Z"
        },
        "id": "1c2d3785",
        "papermill": {
          "duration": 11.07693,
          "end_time": "2023-08-25T15:42:56.796745",
          "exception": false,
          "start_time": "2023-08-25T15:42:45.719815",
          "status": "completed"
        },
        "tags": [],
        "outputId": "727dca27-ceeb-4a86-f129-6006b56f0b0e"
      },
      "outputs": [
        {
          "name": "stderr",
          "output_type": "stream",
          "text": [
            "/opt/conda/lib/python3.10/site-packages/scipy/__init__.py:146: UserWarning: A NumPy version >=1.16.5 and <1.23.0 is required for this version of SciPy (detected version 1.23.5\n",
            "  warnings.warn(f\"A NumPy version >={np_minversion} and <{np_maxversion}\"\n",
            "/opt/conda/lib/python3.10/site-packages/tensorflow_io/python/ops/__init__.py:98: UserWarning: unable to load libtensorflow_io_plugins.so: unable to open file: libtensorflow_io_plugins.so, from paths: ['/opt/conda/lib/python3.10/site-packages/tensorflow_io/python/ops/libtensorflow_io_plugins.so']\n",
            "caused by: ['/opt/conda/lib/python3.10/site-packages/tensorflow_io/python/ops/libtensorflow_io_plugins.so: undefined symbol: _ZN3tsl6StatusC1EN10tensorflow5error4CodeESt17basic_string_viewIcSt11char_traitsIcEENS_14SourceLocationE']\n",
            "  warnings.warn(f\"unable to load libtensorflow_io_plugins.so: {e}\")\n",
            "/opt/conda/lib/python3.10/site-packages/tensorflow_io/python/ops/__init__.py:104: UserWarning: file system plugins are not loaded: unable to open file: libtensorflow_io.so, from paths: ['/opt/conda/lib/python3.10/site-packages/tensorflow_io/python/ops/libtensorflow_io.so']\n",
            "caused by: ['/opt/conda/lib/python3.10/site-packages/tensorflow_io/python/ops/libtensorflow_io.so: undefined symbol: _ZTVN10tensorflow13GcsFileSystemE']\n",
            "  warnings.warn(f\"file system plugins are not loaded: {e}\")\n"
          ]
        }
      ],
      "source": [
        "# !pip install transformers tokenizers datasets huggingface_hub --quiet\n",
        "\n",
        "import numpy as np\n",
        "import random\n",
        "import os\n",
        "import tensorflow as tf\n",
        "from transformers import set_seed\n",
        "\n",
        "rand_seed = 9\n",
        "\n",
        "def seed_everything(seed=0):\n",
        "    random.seed(seed) # random\n",
        "    os.environ['PYTHONHASHSEED'] = str(seed) # python enviroment\n",
        "    np.random.seed(seed) # numpy\n",
        "    tf.keras.utils.set_random_seed(seed) # tensorflow\n",
        "    tf.random.set_seed(seed) # tensorflow\n",
        "    set_seed(seed) # hugging_face transformer\n",
        "\n",
        "seed_everything(rand_seed)"
      ]
    },
    {
      "cell_type": "code",
      "execution_count": null,
      "id": "55b7e749",
      "metadata": {
        "execution": {
          "iopub.execute_input": "2023-08-25T15:42:56.814976Z",
          "iopub.status.busy": "2023-08-25T15:42:56.813707Z",
          "iopub.status.idle": "2023-08-25T15:43:14.322723Z",
          "shell.execute_reply": "2023-08-25T15:43:14.321611Z"
        },
        "id": "55b7e749",
        "outputId": "029308aa-132c-46e6-f1f9-5bb57cea6d95",
        "papermill": {
          "duration": 17.521666,
          "end_time": "2023-08-25T15:43:14.325302",
          "exception": false,
          "start_time": "2023-08-25T15:42:56.803636",
          "status": "completed"
        },
        "tags": [],
        "colab": {
          "referenced_widgets": [
            "e44fb9bcb07747aa95364afe16b8d5d5",
            "1e3b81efedca481b931783f726eaa230",
            "64c271a9d7df40f69408619efdb85e1f",
            "990859e9bb7c4b2cbfb786466bfe5271",
            "0324d79398e54c03b73b3db2d46b0a8d",
            "b9bed9ada6394793a2dab5f06559b6a1",
            "1533717803884e2eae357fc7c911916a",
            "fb2d9354d00644d7adab46f784f80c72",
            "2ea92aaebbbf4022abfe5172e88f0f76",
            "791f962a93ac42f0932edaa5b4271031"
          ]
        }
      },
      "outputs": [
        {
          "data": {
            "application/vnd.jupyter.widget-view+json": {
              "model_id": "e44fb9bcb07747aa95364afe16b8d5d5",
              "version_major": 2,
              "version_minor": 0
            },
            "text/plain": [
              "Downloading (…)okenizer_config.json:   0%|          | 0.00/144 [00:00<?, ?B/s]"
            ]
          },
          "metadata": {},
          "output_type": "display_data"
        },
        {
          "data": {
            "application/vnd.jupyter.widget-view+json": {
              "model_id": "1e3b81efedca481b931783f726eaa230",
              "version_major": 2,
              "version_minor": 0
            },
            "text/plain": [
              "Downloading (…)/main/tokenizer.json:   0%|          | 0.00/3.06M [00:00<?, ?B/s]"
            ]
          },
          "metadata": {},
          "output_type": "display_data"
        },
        {
          "data": {
            "application/vnd.jupyter.widget-view+json": {
              "model_id": "64c271a9d7df40f69408619efdb85e1f",
              "version_major": 2,
              "version_minor": 0
            },
            "text/plain": [
              "Downloading (…)cial_tokens_map.json:   0%|          | 0.00/125 [00:00<?, ?B/s]"
            ]
          },
          "metadata": {},
          "output_type": "display_data"
        },
        {
          "data": {
            "application/vnd.jupyter.widget-view+json": {
              "model_id": "990859e9bb7c4b2cbfb786466bfe5271",
              "version_major": 2,
              "version_minor": 0
            },
            "text/plain": [
              "Downloading (…)lve/main/config.json:   0%|          | 0.00/1.11k [00:00<?, ?B/s]"
            ]
          },
          "metadata": {},
          "output_type": "display_data"
        },
        {
          "data": {
            "application/vnd.jupyter.widget-view+json": {
              "model_id": "0324d79398e54c03b73b3db2d46b0a8d",
              "version_major": 2,
              "version_minor": 0
            },
            "text/plain": [
              "Downloading tf_model.h5:   0%|          | 0.00/481M [00:00<?, ?B/s]"
            ]
          },
          "metadata": {},
          "output_type": "display_data"
        },
        {
          "name": "stderr",
          "output_type": "stream",
          "text": [
            "Some layers from the model checkpoint at raygx/distilGPT-NepSA were not used when initializing TFGPT2Model: ['score']\n",
            "- This IS expected if you are initializing TFGPT2Model from the checkpoint of a model trained on another task or with another architecture (e.g. initializing a BertForSequenceClassification model from a BertForPreTraining model).\n",
            "- This IS NOT expected if you are initializing TFGPT2Model from the checkpoint of a model that you expect to be exactly identical (initializing a BertForSequenceClassification model from a BertForSequenceClassification model).\n",
            "All the layers of TFGPT2Model were initialized from the model checkpoint at raygx/distilGPT-NepSA.\n",
            "If your task is similar to the task the model of the checkpoint was trained on, you can already use TFGPT2Model for predictions without further training.\n"
          ]
        },
        {
          "data": {
            "application/vnd.jupyter.widget-view+json": {
              "model_id": "b9bed9ada6394793a2dab5f06559b6a1",
              "version_major": 2,
              "version_minor": 0
            },
            "text/plain": [
              "Downloading (…)okenizer_config.json:   0%|          | 0.00/186 [00:00<?, ?B/s]"
            ]
          },
          "metadata": {},
          "output_type": "display_data"
        },
        {
          "data": {
            "application/vnd.jupyter.widget-view+json": {
              "model_id": "1533717803884e2eae357fc7c911916a",
              "version_major": 2,
              "version_minor": 0
            },
            "text/plain": [
              "Downloading (…)/main/tokenizer.json:   0%|          | 0.00/1.67M [00:00<?, ?B/s]"
            ]
          },
          "metadata": {},
          "output_type": "display_data"
        },
        {
          "data": {
            "application/vnd.jupyter.widget-view+json": {
              "model_id": "fb2d9354d00644d7adab46f784f80c72",
              "version_major": 2,
              "version_minor": 0
            },
            "text/plain": [
              "Downloading (…)cial_tokens_map.json:   0%|          | 0.00/125 [00:00<?, ?B/s]"
            ]
          },
          "metadata": {},
          "output_type": "display_data"
        },
        {
          "name": "stderr",
          "output_type": "stream",
          "text": [
            "The tokenizer class you load from this checkpoint is not the same type as the class this function is called from. It may result in unexpected tokenization. \n",
            "The tokenizer class you load from this checkpoint is 'PreTrainedTokenizerFast'. \n",
            "The class this function is called from is 'BertTokenizerFast'.\n"
          ]
        },
        {
          "data": {
            "application/vnd.jupyter.widget-view+json": {
              "model_id": "2ea92aaebbbf4022abfe5172e88f0f76",
              "version_major": 2,
              "version_minor": 0
            },
            "text/plain": [
              "Downloading (…)lve/main/config.json:   0%|          | 0.00/738 [00:00<?, ?B/s]"
            ]
          },
          "metadata": {},
          "output_type": "display_data"
        },
        {
          "data": {
            "application/vnd.jupyter.widget-view+json": {
              "model_id": "791f962a93ac42f0932edaa5b4271031",
              "version_major": 2,
              "version_minor": 0
            },
            "text/plain": [
              "Downloading tf_model.h5:   0%|          | 0.00/328M [00:00<?, ?B/s]"
            ]
          },
          "metadata": {},
          "output_type": "display_data"
        },
        {
          "name": "stderr",
          "output_type": "stream",
          "text": [
            "Some layers from the model checkpoint at raygx/distilBERT-NepSA were not used when initializing TFDistilBertModel: ['classifier', 'pre_classifier', 'dropout_39']\n",
            "- This IS expected if you are initializing TFDistilBertModel from the checkpoint of a model trained on another task or with another architecture (e.g. initializing a BertForSequenceClassification model from a BertForPreTraining model).\n",
            "- This IS NOT expected if you are initializing TFDistilBertModel from the checkpoint of a model that you expect to be exactly identical (initializing a BertForSequenceClassification model from a BertForSequenceClassification model).\n",
            "All the layers of TFDistilBertModel were initialized from the model checkpoint at raygx/distilBERT-NepSA.\n",
            "If your task is similar to the task the model of the checkpoint was trained on, you can already use TFDistilBertModel for predictions without further training.\n"
          ]
        },
        {
          "data": {
            "text/plain": [
              "(GPT2Config {\n",
              "   \"_name_or_path\": \"raygx/distilGPT-NepSA\",\n",
              "   \"_num_labels\": 1,\n",
              "   \"activation_function\": \"gelu_new\",\n",
              "   \"architectures\": [\n",
              "     \"GPT2ForSequenceClassification\"\n",
              "   ],\n",
              "   \"attn_pdrop\": 0.1,\n",
              "   \"bos_token_id\": null,\n",
              "   \"embd_pdrop\": 0.1,\n",
              "   \"eos_token_id\": null,\n",
              "   \"id2label\": {\n",
              "     \"0\": \"NEUTRAL\",\n",
              "     \"1\": \"POSITIVE\",\n",
              "     \"2\": \"NEGATIVE\"\n",
              "   },\n",
              "   \"initializer_range\": 0.02,\n",
              "   \"label2id\": {\n",
              "     \"NEGATIVE\": 2,\n",
              "     \"NEUTRAL\": 0,\n",
              "     \"POSITIVE\": 1\n",
              "   },\n",
              "   \"layer_norm_epsilon\": 1e-05,\n",
              "   \"model_type\": \"gpt2\",\n",
              "   \"n_ctx\": 1024,\n",
              "   \"n_embd\": 768,\n",
              "   \"n_head\": 12,\n",
              "   \"n_inner\": null,\n",
              "   \"n_layer\": 6,\n",
              "   \"n_positions\": 1024,\n",
              "   \"pad_token_id\": 3,\n",
              "   \"reorder_and_upcast_attn\": false,\n",
              "   \"resid_pdrop\": 0.1,\n",
              "   \"scale_attn_by_inverse_layer_idx\": false,\n",
              "   \"scale_attn_weights\": true,\n",
              "   \"summary_activation\": null,\n",
              "   \"summary_first_dropout\": 0.1,\n",
              "   \"summary_proj_to_labels\": true,\n",
              "   \"summary_type\": \"cls_index\",\n",
              "   \"summary_use_proj\": true,\n",
              "   \"task_specific_params\": {\n",
              "     \"text-generation\": {\n",
              "       \"do_sample\": true,\n",
              "       \"max_length\": 50\n",
              "     }\n",
              "   },\n",
              "   \"transformers_version\": \"4.30.2\",\n",
              "   \"use_cache\": true,\n",
              "   \"vocab_size\": 50003\n",
              " },\n",
              " DistilBertConfig {\n",
              "   \"_name_or_path\": \"raygx/distilBERT-NepSA\",\n",
              "   \"activation\": \"gelu\",\n",
              "   \"architectures\": [\n",
              "     \"DistilBertForSequenceClassification\"\n",
              "   ],\n",
              "   \"attention_dropout\": 0.1,\n",
              "   \"bos_token_id\": 1,\n",
              "   \"dim\": 768,\n",
              "   \"dropout\": 0.1,\n",
              "   \"eos_token_id\": 2,\n",
              "   \"hidden_dim\": 3072,\n",
              "   \"id2label\": {\n",
              "     \"0\": \"NEUTRAL\",\n",
              "     \"1\": \"POSITIVE\",\n",
              "     \"2\": \"NEGATIVE\"\n",
              "   },\n",
              "   \"initializer_range\": 0.02,\n",
              "   \"label2id\": {\n",
              "     \"NEGATIVE\": 2,\n",
              "     \"NEUTRAL\": 0,\n",
              "     \"POSITIVE\": 1\n",
              "   },\n",
              "   \"max_position_embeddings\": 512,\n",
              "   \"model_type\": \"distilbert\",\n",
              "   \"n_heads\": 12,\n",
              "   \"n_layers\": 6,\n",
              "   \"pad_token_id\": 2,\n",
              "   \"qa_dropout\": 0.1,\n",
              "   \"seq_classif_dropout\": 0.2,\n",
              "   \"sinusoidal_pos_embds\": false,\n",
              "   \"tie_weights_\": true,\n",
              "   \"transformers_version\": \"4.30.2\",\n",
              "   \"vocab_size\": 50000\n",
              " })"
            ]
          },
          "execution_count": 2,
          "metadata": {},
          "output_type": "execute_result"
        }
      ],
      "source": [
        "from transformers import PreTrainedTokenizerFast, BertTokenizerFast, TFAutoModel\n",
        "import datasets\n",
        "\n",
        "gptModel = 'raygx/distilGPT-NepSA' ## Fine-tuned Model ## 'raygx/Nepali-GPT2-CausalLM' ## Pre-Trained LM ##\n",
        "gptTokenizer = PreTrainedTokenizerFast.from_pretrained(gptModel,padding_side='left')\n",
        "gptModel = TFAutoModel.from_pretrained(gptModel)\n",
        "\n",
        "bertModel = 'raygx/distilBERT-NepSA' ## Fine-tuned Model for SA ## 'raygx/BertClassifier4NepaliNews' ## Fine-tuned Model for NewsClassification ## 'Shushant/nepaliBERT' ## Pre-Trained LM ##\n",
        "bertTokenizer = BertTokenizerFast.from_pretrained(bertModel)\n",
        "try:\n",
        "    bertModel = TFAutoModel.from_pretrained(bertModel)#,revision='3d8fa5f1a60104bad4592461a0237b85b9c8756c')\n",
        "except:\n",
        "    bertModel = TFAutoModel.from_pretrained(bertModel,from_pt=True)\n",
        "\n",
        "gptModel.config, bertModel.config"
      ]
    },
    {
      "cell_type": "code",
      "execution_count": null,
      "id": "f7a6d764",
      "metadata": {
        "execution": {
          "iopub.execute_input": "2023-08-25T15:43:14.341728Z",
          "iopub.status.busy": "2023-08-25T15:43:14.340297Z",
          "iopub.status.idle": "2023-08-25T15:43:16.988838Z",
          "shell.execute_reply": "2023-08-25T15:43:16.987868Z"
        },
        "id": "f7a6d764",
        "outputId": "39c4ed3f-98e5-486f-acfd-e930514250e1",
        "papermill": {
          "duration": 2.658802,
          "end_time": "2023-08-25T15:43:16.991025",
          "exception": false,
          "start_time": "2023-08-25T15:43:14.332223",
          "status": "completed"
        },
        "tags": [],
        "colab": {
          "referenced_widgets": [
            "196f5a0e7fca4211b824b34af17e1943",
            "160c7545c13b4af887deb5c97ba2feca",
            "4b0de419dabd4594816a126ad74cd30d",
            "be927875ec2b42478e6c6b8aefd9ed0e"
          ]
        }
      },
      "outputs": [
        {
          "name": "stdout",
          "output_type": "stream",
          "text": [
            "#######################Using NepCov19Tweets#########################\n",
            "Downloading and preparing dataset parquet/raygx--NepCov19TweetsPlus to /root/.cache/huggingface/datasets/parquet/raygx--NepCov19TweetsPlus-46f98dd56864ead2/0.0.0/0b6d5799bb726b24ad7fc7be720c170d8e497f575d02d47537de9a5bac074901...\n"
          ]
        },
        {
          "data": {
            "application/vnd.jupyter.widget-view+json": {
              "model_id": "196f5a0e7fca4211b824b34af17e1943",
              "version_major": 2,
              "version_minor": 0
            },
            "text/plain": [
              "Downloading data files:   0%|          | 0/1 [00:00<?, ?it/s]"
            ]
          },
          "metadata": {},
          "output_type": "display_data"
        },
        {
          "data": {
            "application/vnd.jupyter.widget-view+json": {
              "model_id": "160c7545c13b4af887deb5c97ba2feca",
              "version_major": 2,
              "version_minor": 0
            },
            "text/plain": [
              "Downloading data:   0%|          | 0.00/5.22M [00:00<?, ?B/s]"
            ]
          },
          "metadata": {},
          "output_type": "display_data"
        },
        {
          "data": {
            "application/vnd.jupyter.widget-view+json": {
              "model_id": "4b0de419dabd4594816a126ad74cd30d",
              "version_major": 2,
              "version_minor": 0
            },
            "text/plain": [
              "Extracting data files:   0%|          | 0/1 [00:00<?, ?it/s]"
            ]
          },
          "metadata": {},
          "output_type": "display_data"
        },
        {
          "name": "stdout",
          "output_type": "stream",
          "text": [
            "Dataset parquet downloaded and prepared to /root/.cache/huggingface/datasets/parquet/raygx--NepCov19TweetsPlus-46f98dd56864ead2/0.0.0/0b6d5799bb726b24ad7fc7be720c170d8e497f575d02d47537de9a5bac074901. Subsequent calls will reuse this data.\n"
          ]
        },
        {
          "data": {
            "application/vnd.jupyter.widget-view+json": {
              "model_id": "be927875ec2b42478e6c6b8aefd9ed0e",
              "version_major": 2,
              "version_minor": 0
            },
            "text/plain": [
              "  0%|          | 0/1 [00:00<?, ?it/s]"
            ]
          },
          "metadata": {},
          "output_type": "display_data"
        },
        {
          "data": {
            "text/plain": [
              "DatasetDict({\n",
              "    train: Dataset({\n",
              "        features: ['label', 'text'],\n",
              "        num_rows: 41541\n",
              "    })\n",
              "})"
            ]
          },
          "execution_count": 3,
          "metadata": {},
          "output_type": "execute_result"
        }
      ],
      "source": [
        "print(\"#######################Using NepCov19Tweets#########################\")\n",
        "data = datasets.load_dataset(\"raygx/NepCov19TweetsPlus\")\n",
        "\n",
        "data = data.rename_columns({\"Sentiment\":\"label\",\"Sentences\":\"text\"})\n",
        "data"
      ]
    },
    {
      "cell_type": "code",
      "execution_count": null,
      "id": "4f7ced76",
      "metadata": {
        "execution": {
          "iopub.execute_input": "2023-08-25T15:43:17.009869Z",
          "iopub.status.busy": "2023-08-25T15:43:17.009040Z",
          "iopub.status.idle": "2023-08-25T15:43:17.088885Z",
          "shell.execute_reply": "2023-08-25T15:43:17.087976Z"
        },
        "id": "4f7ced76",
        "outputId": "5f066f74-ea37-48e1-dd1d-3f6aa85919aa",
        "papermill": {
          "duration": 0.090996,
          "end_time": "2023-08-25T15:43:17.091254",
          "exception": false,
          "start_time": "2023-08-25T15:43:17.000258",
          "status": "completed"
        },
        "tags": []
      },
      "outputs": [
        {
          "data": {
            "text/plain": [
              "DatasetDict({\n",
              "    train: Dataset({\n",
              "        features: ['label', 'text'],\n",
              "        num_rows: 33232\n",
              "    })\n",
              "    test: Dataset({\n",
              "        features: ['label', 'text'],\n",
              "        num_rows: 8309\n",
              "    })\n",
              "})"
            ]
          },
          "execution_count": 4,
          "metadata": {},
          "output_type": "execute_result"
        }
      ],
      "source": [
        "data = data.shuffle(rand_seed)\n",
        "data = data['train'].train_test_split(test_size=0.2)\n",
        "data"
      ]
    },
    {
      "cell_type": "code",
      "execution_count": null,
      "id": "2b0c1e72",
      "metadata": {
        "execution": {
          "iopub.execute_input": "2023-08-25T15:43:17.110171Z",
          "iopub.status.busy": "2023-08-25T15:43:17.108507Z",
          "iopub.status.idle": "2023-08-25T15:43:22.156281Z",
          "shell.execute_reply": "2023-08-25T15:43:22.155125Z"
        },
        "id": "2b0c1e72",
        "outputId": "8135fd01-c616-40d7-cb61-9230c797d6c5",
        "papermill": {
          "duration": 5.059687,
          "end_time": "2023-08-25T15:43:22.159043",
          "exception": false,
          "start_time": "2023-08-25T15:43:17.099356",
          "status": "completed"
        },
        "tags": [],
        "colab": {
          "referenced_widgets": [
            "b7863a4fe3d1458ea344615ac60237f2",
            "a87819e395cf4a4e84bdc625e24d1df5",
            "382f086af5404094948e293d211a7444",
            "c1bf1c47e8fa4ac0a9be5eeaa22c1c7f",
            "b77a768a96214af0a6fd42af5d6949e1",
            "cbc3a376bd2a4feead55c96f96a8b8be",
            "92cd92894c24447e9d5a12da4a964ecb",
            "be32047c27234b0eaf58f7b29f799595"
          ]
        }
      },
      "outputs": [
        {
          "name": "stdout",
          "output_type": "stream",
          "text": [
            "      "
          ]
        },
        {
          "data": {
            "application/vnd.jupyter.widget-view+json": {
              "model_id": "b7863a4fe3d1458ea344615ac60237f2",
              "version_major": 2,
              "version_minor": 0
            },
            "text/plain": [
              "#0:   0%|          | 0/8308 [00:00<?, ?ex/s]"
            ]
          },
          "metadata": {},
          "output_type": "display_data"
        },
        {
          "name": "stdout",
          "output_type": "stream",
          "text": [
            "  "
          ]
        },
        {
          "data": {
            "application/vnd.jupyter.widget-view+json": {
              "model_id": "a87819e395cf4a4e84bdc625e24d1df5",
              "version_major": 2,
              "version_minor": 0
            },
            "text/plain": [
              "#1:   0%|          | 0/8308 [00:00<?, ?ex/s]"
            ]
          },
          "metadata": {},
          "output_type": "display_data"
        },
        {
          "data": {
            "application/vnd.jupyter.widget-view+json": {
              "model_id": "382f086af5404094948e293d211a7444",
              "version_major": 2,
              "version_minor": 0
            },
            "text/plain": [
              "#2:   0%|          | 0/8308 [00:00<?, ?ex/s]"
            ]
          },
          "metadata": {},
          "output_type": "display_data"
        },
        {
          "data": {
            "application/vnd.jupyter.widget-view+json": {
              "model_id": "c1bf1c47e8fa4ac0a9be5eeaa22c1c7f",
              "version_major": 2,
              "version_minor": 0
            },
            "text/plain": [
              "#3:   0%|          | 0/8308 [00:00<?, ?ex/s]"
            ]
          },
          "metadata": {},
          "output_type": "display_data"
        },
        {
          "name": "stdout",
          "output_type": "stream",
          "text": [
            "        "
          ]
        },
        {
          "data": {
            "application/vnd.jupyter.widget-view+json": {
              "model_id": "b77a768a96214af0a6fd42af5d6949e1",
              "version_major": 2,
              "version_minor": 0
            },
            "text/plain": [
              "#0:   0%|          | 0/2078 [00:00<?, ?ex/s]"
            ]
          },
          "metadata": {},
          "output_type": "display_data"
        },
        {
          "data": {
            "application/vnd.jupyter.widget-view+json": {
              "model_id": "cbc3a376bd2a4feead55c96f96a8b8be",
              "version_major": 2,
              "version_minor": 0
            },
            "text/plain": [
              "#1:   0%|          | 0/2077 [00:00<?, ?ex/s]"
            ]
          },
          "metadata": {},
          "output_type": "display_data"
        },
        {
          "data": {
            "application/vnd.jupyter.widget-view+json": {
              "model_id": "92cd92894c24447e9d5a12da4a964ecb",
              "version_major": 2,
              "version_minor": 0
            },
            "text/plain": [
              "#3:   0%|          | 0/2077 [00:00<?, ?ex/s]"
            ]
          },
          "metadata": {},
          "output_type": "display_data"
        },
        {
          "data": {
            "application/vnd.jupyter.widget-view+json": {
              "model_id": "be32047c27234b0eaf58f7b29f799595",
              "version_major": 2,
              "version_minor": 0
            },
            "text/plain": [
              "#2:   0%|          | 0/2077 [00:00<?, ?ex/s]"
            ]
          },
          "metadata": {},
          "output_type": "display_data"
        },
        {
          "data": {
            "text/plain": [
              "DatasetDict({\n",
              "    train: Dataset({\n",
              "        features: ['label', 'text'],\n",
              "        num_rows: 33232\n",
              "    })\n",
              "    test: Dataset({\n",
              "        features: ['label', 'text'],\n",
              "        num_rows: 8309\n",
              "    })\n",
              "})"
            ]
          },
          "execution_count": 5,
          "metadata": {},
          "output_type": "execute_result"
        }
      ],
      "source": [
        "def prepareLabels(row):\n",
        "    if row['label'] == -1:\n",
        "        row['label'] = 2\n",
        "\n",
        "    return row\n",
        "\n",
        "data = data.map(\n",
        "        prepareLabels,\n",
        "        num_proc=4)\n",
        "\n",
        "data"
      ]
    },
    {
      "cell_type": "code",
      "execution_count": null,
      "id": "b1877dbc",
      "metadata": {
        "execution": {
          "iopub.execute_input": "2023-08-25T15:43:22.192019Z",
          "iopub.status.busy": "2023-08-25T15:43:22.191636Z",
          "iopub.status.idle": "2023-08-25T15:43:22.208176Z",
          "shell.execute_reply": "2023-08-25T15:43:22.207299Z"
        },
        "id": "b1877dbc",
        "papermill": {
          "duration": 0.03547,
          "end_time": "2023-08-25T15:43:22.210694",
          "exception": false,
          "start_time": "2023-08-25T15:43:22.175224",
          "status": "completed"
        },
        "tags": []
      },
      "outputs": [],
      "source": [
        "import tensorflow as tf\n",
        "\n",
        "class GPTEmbedding(tf.keras.layers.Layer):\n",
        "    def __init__(self, model,tokenizer, max_token_len=128,padding='max_length', trailing_context=4,truncation=True):\n",
        "        super().__init__()\n",
        "        self.embedding = model\n",
        "        self.tokenizer = tokenizer\n",
        "        self.tokenizer.padding_side = 'left'\n",
        "        self.max_token = max_token_len\n",
        "        self.padding = padding\n",
        "        self.truncation = truncation\n",
        "        self.trailing_context = trailing_context\n",
        "        self.trainable=False\n",
        "\n",
        "    def call(self, x):\n",
        "        embeddings = self.embedding(\n",
        "                      self.tokenizer(x,padding=self.padding,truncation=self.truncation,max_length=self.max_token,return_tensors='tf')\n",
        "                    )[0][:,-self.trailing_context:,:]\n",
        "\n",
        "        return tf.reduce_logsumexp(embeddings,axis=1)\n",
        "\n",
        "class BERTEmbedding(tf.keras.layers.Layer):\n",
        "    def __init__(self, model,tokenizer, max_token_len=128,padding='max_length',truncation=True):\n",
        "        super().__init__()\n",
        "        self.embedding = model\n",
        "        self.tokenizer = tokenizer\n",
        "        self.max_token = max_token_len\n",
        "        self.padding = padding\n",
        "        self.truncation = truncation\n",
        "        self.trainable=False\n",
        "\n",
        "    def call(self, x):\n",
        "        x = self.embedding(self.tokenizer(x,padding=self.padding,truncation=self.truncation,max_length=self.max_token,return_tensors='tf'))\n",
        "        return x['last_hidden_state'][:,0,:]"
      ]
    },
    {
      "cell_type": "markdown",
      "id": "88fb4c6d",
      "metadata": {
        "id": "88fb4c6d",
        "papermill": {
          "duration": 0.01601,
          "end_time": "2023-08-25T15:43:22.242479",
          "exception": false,
          "start_time": "2023-08-25T15:43:22.226469",
          "status": "completed"
        },
        "tags": []
      },
      "source": [
        "### Preparing Training Data"
      ]
    },
    {
      "cell_type": "code",
      "execution_count": null,
      "id": "a1369677",
      "metadata": {
        "execution": {
          "iopub.execute_input": "2023-08-25T15:43:22.274170Z",
          "iopub.status.busy": "2023-08-25T15:43:22.273822Z",
          "iopub.status.idle": "2023-08-25T15:47:33.891580Z",
          "shell.execute_reply": "2023-08-25T15:47:33.890510Z"
        },
        "id": "a1369677",
        "outputId": "e9c9be56-05b1-48d7-93d6-1dda61090c6b",
        "papermill": {
          "duration": 251.636769,
          "end_time": "2023-08-25T15:47:33.894424",
          "exception": false,
          "start_time": "2023-08-25T15:43:22.257655",
          "status": "completed"
        },
        "tags": [],
        "colab": {
          "referenced_widgets": [
            "b409a76524cb4fb0914de144a33e0fac"
          ]
        }
      },
      "outputs": [
        {
          "data": {
            "application/vnd.jupyter.widget-view+json": {
              "model_id": "b409a76524cb4fb0914de144a33e0fac",
              "version_major": 2,
              "version_minor": 0
            },
            "text/plain": [
              "  0%|          | 0/1039 [00:00<?, ?it/s]"
            ]
          },
          "metadata": {},
          "output_type": "display_data"
        },
        {
          "data": {
            "text/plain": [
              "(33232, 1536)"
            ]
          },
          "execution_count": 7,
          "metadata": {},
          "output_type": "execute_result"
        }
      ],
      "source": [
        "from tqdm.auto import tqdm\n",
        "\n",
        "gptEmbd = GPTEmbedding(model=gptModel,tokenizer=gptTokenizer,trailing_context=2,max_token_len=100)\n",
        "bertEmbd = BERTEmbedding(model=bertModel,tokenizer=bertTokenizer,max_token_len=100)\n",
        "\n",
        "X = None\n",
        "batch = 32\n",
        "for i in tqdm(range(0,data['train'].num_rows,batch)):\n",
        "    feat1 = bertEmbd(data['train'][i:i+batch]['text'])\n",
        "    feat2 = gptEmbd(data['train'][i:i+batch]['text'])\n",
        "\n",
        "    feat = tf.concat((feat1,feat2),1)\n",
        "    if i==0:\n",
        "        X = feat\n",
        "    else:\n",
        "        X = np.concatenate([X,feat],axis=0)\n",
        "\n",
        "X.shape"
      ]
    },
    {
      "cell_type": "code",
      "execution_count": null,
      "id": "a7b9a409",
      "metadata": {
        "execution": {
          "iopub.execute_input": "2023-08-25T15:47:33.933291Z",
          "iopub.status.busy": "2023-08-25T15:47:33.932986Z",
          "iopub.status.idle": "2023-08-25T15:47:33.937465Z",
          "shell.execute_reply": "2023-08-25T15:47:33.936520Z"
        },
        "id": "a7b9a409",
        "papermill": {
          "duration": 0.020992,
          "end_time": "2023-08-25T15:47:33.939405",
          "exception": false,
          "start_time": "2023-08-25T15:47:33.918413",
          "status": "completed"
        },
        "tags": []
      },
      "outputs": [],
      "source": [
        "### Attention Visualization\n",
        "# import seaborn as sns\n",
        "\n",
        "# output = bertModel(bertTokenizer(data['train'][:1]['text'],return_tensors='tf'),output_attentions=True)\n",
        "# print(output.keys())\n",
        "# print(output['attentions'][1].shape)\n",
        "\n",
        "### output['attentions'][nLayer][nBatch][nHead]\n",
        "# sns.heatmap(output['attentions'][-2][0][-6])"
      ]
    },
    {
      "cell_type": "markdown",
      "id": "582a207a",
      "metadata": {
        "id": "582a207a",
        "papermill": {
          "duration": 0.010654,
          "end_time": "2023-08-25T15:47:33.961273",
          "exception": false,
          "start_time": "2023-08-25T15:47:33.950619",
          "status": "completed"
        },
        "tags": []
      },
      "source": [
        "## Training"
      ]
    },
    {
      "cell_type": "code",
      "execution_count": null,
      "id": "7252939c",
      "metadata": {
        "execution": {
          "iopub.execute_input": "2023-08-25T15:47:33.984616Z",
          "iopub.status.busy": "2023-08-25T15:47:33.984336Z",
          "iopub.status.idle": "2023-08-25T15:54:53.390972Z",
          "shell.execute_reply": "2023-08-25T15:54:53.390011Z"
        },
        "id": "7252939c",
        "outputId": "10e74c10-2134-430d-e021-23c864d5dcf3",
        "papermill": {
          "duration": 439.43236,
          "end_time": "2023-08-25T15:54:53.404762",
          "exception": false,
          "start_time": "2023-08-25T15:47:33.972402",
          "status": "completed"
        },
        "tags": []
      },
      "outputs": [
        {
          "name": "stdout",
          "output_type": "stream",
          "text": [
            "CPU times: user 7min 18s, sys: 571 ms, total: 7min 18s\n",
            "Wall time: 7min 19s\n"
          ]
        },
        {
          "data": {
            "text/plain": [
              "array([0, 1, 2])"
            ]
          },
          "execution_count": 9,
          "metadata": {},
          "output_type": "execute_result"
        }
      ],
      "source": [
        "%%time\n",
        "from sklearn import svm\n",
        "\n",
        "y = data['train']['label']\n",
        "clf = svm.SVC()  ## default 'rbf'\n",
        "clf.fit(X, y)\n",
        "clf.classes_"
      ]
    },
    {
      "cell_type": "markdown",
      "id": "6c3cf165",
      "metadata": {
        "id": "6c3cf165",
        "papermill": {
          "duration": 0.011241,
          "end_time": "2023-08-25T15:54:53.427399",
          "exception": false,
          "start_time": "2023-08-25T15:54:53.416158",
          "status": "completed"
        },
        "tags": []
      },
      "source": [
        "### Preparing Test Data"
      ]
    },
    {
      "cell_type": "code",
      "execution_count": null,
      "id": "130e668e",
      "metadata": {
        "execution": {
          "iopub.execute_input": "2023-08-25T15:54:53.451844Z",
          "iopub.status.busy": "2023-08-25T15:54:53.450855Z",
          "iopub.status.idle": "2023-08-25T15:55:48.452638Z",
          "shell.execute_reply": "2023-08-25T15:55:48.451658Z"
        },
        "id": "130e668e",
        "outputId": "65c31170-31dd-4ff6-b87a-3ce1f7de72c9",
        "papermill": {
          "duration": 55.016339,
          "end_time": "2023-08-25T15:55:48.454994",
          "exception": false,
          "start_time": "2023-08-25T15:54:53.438655",
          "status": "completed"
        },
        "tags": [],
        "colab": {
          "referenced_widgets": [
            "82b71e8a208147d59828aacc93e12aa6"
          ]
        }
      },
      "outputs": [
        {
          "data": {
            "application/vnd.jupyter.widget-view+json": {
              "model_id": "82b71e8a208147d59828aacc93e12aa6",
              "version_major": 2,
              "version_minor": 0
            },
            "text/plain": [
              "  0%|          | 0/260 [00:00<?, ?it/s]"
            ]
          },
          "metadata": {},
          "output_type": "display_data"
        },
        {
          "data": {
            "text/plain": [
              "(8309, 1536)"
            ]
          },
          "execution_count": 10,
          "metadata": {},
          "output_type": "execute_result"
        }
      ],
      "source": [
        "testX = None\n",
        "for i in tqdm(range(0,data['test'].num_rows,batch)):\n",
        "    feat1 = bertEmbd(data['test'][i:i+batch]['text'])\n",
        "    feat2 = gptEmbd(data['test'][i:i+batch]['text'])\n",
        "\n",
        "    feat = tf.concat([feat1,feat2],1)\n",
        "    if i==0:\n",
        "        testX = feat\n",
        "    else:\n",
        "        testX = np.concatenate([testX,feat],axis=0)\n",
        "\n",
        "testX.shape"
      ]
    },
    {
      "cell_type": "markdown",
      "id": "1e36a6c5",
      "metadata": {
        "id": "1e36a6c5",
        "papermill": {
          "duration": 0.012659,
          "end_time": "2023-08-25T15:55:48.480328",
          "exception": false,
          "start_time": "2023-08-25T15:55:48.467669",
          "status": "completed"
        },
        "tags": []
      },
      "source": [
        "## Evaluation"
      ]
    },
    {
      "cell_type": "code",
      "execution_count": null,
      "id": "c1df96ee",
      "metadata": {
        "execution": {
          "iopub.execute_input": "2023-08-25T15:55:48.507780Z",
          "iopub.status.busy": "2023-08-25T15:55:48.507384Z",
          "iopub.status.idle": "2023-08-25T15:58:01.864200Z",
          "shell.execute_reply": "2023-08-25T15:58:01.862627Z"
        },
        "id": "c1df96ee",
        "outputId": "3849d102-81d8-47e0-aa7f-0d34c446e4ef",
        "papermill": {
          "duration": 133.384379,
          "end_time": "2023-08-25T15:58:01.878273",
          "exception": false,
          "start_time": "2023-08-25T15:55:48.493894",
          "status": "completed"
        },
        "tags": []
      },
      "outputs": [
        {
          "name": "stdout",
          "output_type": "stream",
          "text": [
            "CPU times: user 2min 12s, sys: 159 ms, total: 2min 13s\n",
            "Wall time: 2min 13s\n"
          ]
        }
      ],
      "source": [
        "%%time\n",
        "predictions = clf.predict(testX)"
      ]
    },
    {
      "cell_type": "code",
      "execution_count": null,
      "id": "9970cc8a",
      "metadata": {
        "execution": {
          "iopub.execute_input": "2023-08-25T15:58:01.903279Z",
          "iopub.status.busy": "2023-08-25T15:58:01.902959Z",
          "iopub.status.idle": "2023-08-25T15:58:01.935207Z",
          "shell.execute_reply": "2023-08-25T15:58:01.934089Z"
        },
        "id": "9970cc8a",
        "outputId": "313b9ae2-a450-47d5-d68b-e799c7b6a58c",
        "papermill": {
          "duration": 0.046969,
          "end_time": "2023-08-25T15:58:01.937145",
          "exception": false,
          "start_time": "2023-08-25T15:58:01.890176",
          "status": "completed"
        },
        "tags": []
      },
      "outputs": [
        {
          "name": "stdout",
          "output_type": "stream",
          "text": [
            "F1-Score 0.8581734552385689\n",
            "Precision-Score 0.8599640653657917\n",
            "Recall-Score 0.8581056685521723\n",
            "accuracy_Score 0.8581056685521723\n"
          ]
        }
      ],
      "source": [
        "from sklearn.metrics import f1_score, precision_score, recall_score, accuracy_score\n",
        "\n",
        "y = data['test']['label']\n",
        "print(\"F1-Score\",f1_score(np.array(y),predictions,average='weighted'))\n",
        "print(\"Precision-Score\",precision_score(np.array(y),predictions,average='weighted'))\n",
        "print(\"Recall-Score\",recall_score(np.array(y),predictions,average='weighted'))\n",
        "print(\"accuracy_Score\",accuracy_score(np.array(y),predictions))"
      ]
    },
    {
      "cell_type": "code",
      "execution_count": null,
      "id": "4f7001a5",
      "metadata": {
        "execution": {
          "iopub.execute_input": "2023-08-25T15:58:01.962810Z",
          "iopub.status.busy": "2023-08-25T15:58:01.961989Z",
          "iopub.status.idle": "2023-08-25T15:58:02.320323Z",
          "shell.execute_reply": "2023-08-25T15:58:02.319221Z"
        },
        "id": "4f7001a5",
        "outputId": "c3a2a0cd-880f-4242-da82-fc41a24f4282",
        "papermill": {
          "duration": 0.37362,
          "end_time": "2023-08-25T15:58:02.322612",
          "exception": false,
          "start_time": "2023-08-25T15:58:01.948992",
          "status": "completed"
        },
        "tags": []
      },
      "outputs": [
        {
          "data": {
            "text/plain": [
              "<sklearn.metrics._plot.confusion_matrix.ConfusionMatrixDisplay at 0x7d4965ed7df0>"
            ]
          },
          "execution_count": 13,
          "metadata": {},
          "output_type": "execute_result"
        },
        {
          "data": {
            "image/png": "[encoded data removed]",
            "text/plain": [
              "<Figure size 640x480 with 2 Axes>"
            ]
          },
          "metadata": {},
          "output_type": "display_data"
        }
      ],
      "source": [
        "from sklearn.metrics import ConfusionMatrixDisplay\n",
        "import matplotlib.pyplot as plt\n",
        "\n",
        "cmd = ConfusionMatrixDisplay(tf.math.confusion_matrix(np.array(y),predictions,num_classes=3).numpy())\n",
        "cmd.plot()\n",
        "\n"
      ]
    }
  ],
  "metadata": {
    "kernelspec": {
      "display_name": "Python 3",
      "language": "python",
      "name": "python3"
    },
    "language_info": {
      "codemirror_mode": {
        "name": "ipython",
        "version": 3
      },
      "file_extension": ".py",
      "mimetype": "text/x-python",
      "name": "python",
      "nbconvert_exporter": "python",
      "pygments_lexer": "ipython3",
      "version": "3.10.12"
    },
    "papermill": {
      "default_parameters": {},
      "duration": 929.236934,
      "end_time": "2023-08-25T15:58:05.191895",
      "environment_variables": {},
      "exception": null,
      "input_path": "__notebook__.ipynb",
      "output_path": "__notebook__.ipynb",
      "parameters": {},
      "start_time": "2023-08-25T15:42:35.954961",
      "version": "2.4.0"
    },
    "widgets": {
      "application/vnd.jupyter.widget-state+json": {}
    },
    "colab": {
      "provenance": [],
      "include_colab_link": true
    }
  },
  "nbformat": 4,
  "nbformat_minor": 5
}